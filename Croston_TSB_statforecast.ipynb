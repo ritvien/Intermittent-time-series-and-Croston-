{
 "cells": [
  {
   "cell_type": "markdown",
   "id": "0e258fbb",
   "metadata": {
    "ExecuteTime": {
     "end_time": "2024-02-19T02:35:55.523335Z",
     "start_time": "2024-02-19T02:35:55.519872Z"
    }
   },
   "source": [
    "# Import"
   ]
  },
  {
   "cell_type": "code",
   "execution_count": 3,
   "id": "c0f36f9a",
   "metadata": {
    "ExecuteTime": {
     "end_time": "2024-02-22T08:09:57.340121Z",
     "start_time": "2024-02-22T08:09:56.733789Z"
    }
   },
   "outputs": [],
   "source": [
    "import pandas as pd\n",
    "import numpy as np\n",
    "import random\n",
    "from datetime import datetime\n",
    "from datetime import timedelta\n",
    "\n",
    "from tqdm import tqdm\n",
    "import time\n",
    "import os\n",
    "import warnings\n",
    "warnings.filterwarnings(\"ignore\")"
   ]
  },
  {
   "cell_type": "code",
   "execution_count": 5,
   "id": "e9fc2d05",
   "metadata": {
    "ExecuteTime": {
     "end_time": "2024-02-22T08:10:04.473871Z",
     "start_time": "2024-02-22T08:10:02.710193Z"
    }
   },
   "outputs": [],
   "source": [
    "from statsforecast import StatsForecast\n",
    "from statsforecast.models import CrostonClassic, TSB\n",
    "from sklearn.metrics import mean_absolute_error, mean_squared_error,mean_absolute_percentage_error"
   ]
  },
  {
   "cell_type": "code",
   "execution_count": 6,
   "id": "f3944058",
   "metadata": {
    "ExecuteTime": {
     "end_time": "2024-02-22T08:10:04.486602Z",
     "start_time": "2024-02-22T08:10:04.483058Z"
    }
   },
   "outputs": [],
   "source": [
    "os.environ['NIXTLA_ID_AS_COL'] = '1'"
   ]
  },
  {
   "cell_type": "markdown",
   "id": "96c60f25",
   "metadata": {},
   "source": [
    "# DF"
   ]
  },
  {
   "cell_type": "code",
   "execution_count": 4,
   "id": "1ade8009",
   "metadata": {
    "ExecuteTime": {
     "end_time": "2024-02-21T02:22:19.907302Z",
     "start_time": "2024-02-21T02:22:19.902768Z"
    }
   },
   "outputs": [],
   "source": [
    "def convert_to_datetime(input_string):\n",
    "    year = int(input_string[1:5])\n",
    "    month = int(input_string[5:])\n",
    "\n",
    "    result_datetime = datetime(year, month,1)\n",
    "\n",
    "    return result_datetime"
   ]
  },
  {
   "cell_type": "code",
   "execution_count": 6,
   "id": "ed128fdd",
   "metadata": {
    "ExecuteTime": {
     "end_time": "2024-02-21T02:22:45.859095Z",
     "start_time": "2024-02-21T02:22:44.266396Z"
    }
   },
   "outputs": [],
   "source": [
    "df = pd.read_csv('..\\..\\Data\\Verbr_2008_2021_sanitarisiert.txt',sep='\\t')\n",
    "df = df.T\n",
    "df = df.iloc[:-1,:]\n",
    "df.index = df.index.map(convert_to_datetime)"
   ]
  },
  {
   "cell_type": "code",
   "execution_count": 7,
   "id": "dac8fdd7",
   "metadata": {
    "ExecuteTime": {
     "end_time": "2024-02-21T02:22:52.957165Z",
     "start_time": "2024-02-21T02:22:52.933164Z"
    },
    "collapsed": true
   },
   "outputs": [
    {
     "ename": "NameError",
     "evalue": "name 'train' is not defined",
     "output_type": "error",
     "traceback": [
      "\u001b[1;31m---------------------------------------------------------------------------\u001b[0m",
      "\u001b[1;31mNameError\u001b[0m                                 Traceback (most recent call last)",
      "Cell \u001b[1;32mIn[7], line 2\u001b[0m\n\u001b[0;32m      1\u001b[0m \u001b[38;5;66;03m#drop zeros\u001b[39;00m\n\u001b[1;32m----> 2\u001b[0m zeros_id \u001b[38;5;241m=\u001b[39m train\u001b[38;5;241m.\u001b[39msum()[train\u001b[38;5;241m.\u001b[39msum()\u001b[38;5;241m==\u001b[39m\u001b[38;5;241m0\u001b[39m]\u001b[38;5;241m.\u001b[39mindex\n\u001b[0;32m      3\u001b[0m df \u001b[38;5;241m=\u001b[39m df\u001b[38;5;241m.\u001b[39mdrop(columns\u001b[38;5;241m=\u001b[39mzeros_id)\n",
      "\u001b[1;31mNameError\u001b[0m: name 'train' is not defined"
     ]
    }
   ],
   "source": [
    "#drop zeros\n",
    "zeros_id = train.sum()[train.sum()==0].index\n",
    "df = df.drop(columns=zeros_id)"
   ]
  },
  {
   "cell_type": "code",
   "execution_count": 8,
   "id": "5152f1ae",
   "metadata": {
    "ExecuteTime": {
     "end_time": "2024-02-21T02:22:55.774871Z",
     "start_time": "2024-02-21T02:22:55.769165Z"
    }
   },
   "outputs": [],
   "source": [
    "train = df.iloc[:156]\n",
    "val = df.iloc[156:]"
   ]
  },
  {
   "cell_type": "markdown",
   "id": "58374869",
   "metadata": {},
   "source": [
    "# Preparing Data"
   ]
  },
  {
   "cell_type": "code",
   "execution_count": 9,
   "id": "5b2b69af",
   "metadata": {
    "ExecuteTime": {
     "end_time": "2024-02-21T02:23:13.702931Z",
     "start_time": "2024-02-21T02:23:10.539931Z"
    }
   },
   "outputs": [],
   "source": [
    "new_df = df.reset_index().melt( var_name='unique_id',id_vars='index', value_name='y')\n",
    "\n",
    "new_df = new_df.rename(columns={'index': 'ds'})\n",
    "new_df = new_df.reindex(columns=['unique_id','ds','y'])\n",
    "train_statsforecast = new_df.loc[new_df['ds'] < '2021-1-1']\n",
    "valid_statsforecast = new_df.loc[(new_df['ds'] >= '2021-1-1')]"
   ]
  },
  {
   "cell_type": "code",
   "execution_count": 10,
   "id": "9225d34f",
   "metadata": {
    "ExecuteTime": {
     "end_time": "2024-02-21T02:23:24.015170Z",
     "start_time": "2024-02-21T02:23:23.997157Z"
    }
   },
   "outputs": [],
   "source": [
    "predict_croston_sf = pd.DataFrame(val).copy()\n",
    "predict_TSB_sf = pd.DataFrame(val).copy()"
   ]
  },
  {
   "cell_type": "markdown",
   "id": "5999844a",
   "metadata": {},
   "source": [
    "# Train"
   ]
  },
  {
   "cell_type": "markdown",
   "id": "d78ee416",
   "metadata": {},
   "source": [
    "A great advantage of StatsForecast is that it allows you to build **multiple models** and compare them very easily."
   ]
  },
  {
   "cell_type": "markdown",
   "id": "60ecad8c",
   "metadata": {},
   "source": [
    "## Croston"
   ]
  },
  {
   "cell_type": "code",
   "execution_count": 143,
   "id": "24c0fbba",
   "metadata": {
    "ExecuteTime": {
     "end_time": "2024-02-20T08:05:02.408697Z",
     "start_time": "2024-02-20T08:04:23.012309Z"
    }
   },
   "outputs": [],
   "source": [
    "model = StatsForecast(models=[CrostonClassic(),\n",
    "                              #TSB(alpha_d=0.2, alpha_p=0.2)\n",
    "                             ],freq='M', n_jobs=-1)\n",
    "model.fit(train_statsforecast)\n",
    "pred_series = model.predict(h=12)\n",
    "pred_series['ds'] = pd.to_datetime(pred_series['ds'])\n",
    "pred_series['ds'] = pred_series['ds'] + timedelta(days=1)\n",
    "pred_series.index = pred_series['ds']\n"
   ]
  },
  {
   "cell_type": "code",
   "execution_count": 152,
   "id": "7e3171cf",
   "metadata": {
    "ExecuteTime": {
     "end_time": "2024-02-20T08:07:28.723712Z",
     "start_time": "2024-02-20T08:07:21.385501Z"
    }
   },
   "outputs": [],
   "source": [
    "pred_series.to_csv('Time Series/exp/Croston_Statforecast.txt')"
   ]
  },
  {
   "cell_type": "code",
   "execution_count": 37,
   "id": "3257f14c",
   "metadata": {
    "ExecuteTime": {
     "end_time": "2024-02-21T03:12:52.802991Z",
     "start_time": "2024-02-21T03:12:51.752745Z"
    }
   },
   "outputs": [],
   "source": [
    "predict_croston_sf = pd.read_csv('../exp/Croston_Statforecast.txt')"
   ]
  },
  {
   "cell_type": "markdown",
   "id": "de2d8ffb",
   "metadata": {},
   "source": [
    "## TSB"
   ]
  },
  {
   "cell_type": "markdown",
   "id": "d08a90da",
   "metadata": {},
   "source": [
    "### Run multi-model"
   ]
  },
  {
   "cell_type": "code",
   "execution_count": null,
   "id": "faf05f7e",
   "metadata": {
    "ExecuteTime": {
     "end_time": "2024-02-20T08:29:41.181209Z",
     "start_time": "2024-02-20T08:29:41.181209Z"
    }
   },
   "outputs": [],
   "source": [
    "model = StatsForecast(models=[#CrostonClassic(),\n",
    "                              TSB(alpha_d=0.2, alpha_p=0.2)\n",
    "                             ],freq='M', n_jobs=-1)\n",
    "model.fit(train_statsforecast)\n",
    "pred_series = model.predict(h=12)\n",
    "pred_series['ds'] = pd.to_datetime(pred_series['ds'])\n",
    "pred_series['ds'] = pred_series['ds'] + timedelta(days=1)\n",
    "pred_series.index = pred_series['ds']"
   ]
  },
  {
   "cell_type": "code",
   "execution_count": 108,
   "id": "a71c5605",
   "metadata": {
    "ExecuteTime": {
     "end_time": "2024-02-20T07:45:25.522862Z",
     "start_time": "2024-02-20T07:45:24.016423Z"
    }
   },
   "outputs": [
    {
     "data": {
      "text/plain": [
       "(156,)"
      ]
     },
     "execution_count": 108,
     "metadata": {},
     "output_type": "execute_result"
    }
   ],
   "source": [
    "train_statsforecast['y'].loc[train_statsforecast['unique_id']==0].shape"
   ]
  },
  {
   "cell_type": "markdown",
   "id": "9857b85a",
   "metadata": {},
   "source": [
    "### TSB"
   ]
  },
  {
   "cell_type": "code",
   "execution_count": 157,
   "id": "e9535db7",
   "metadata": {
    "ExecuteTime": {
     "end_time": "2024-02-20T08:30:22.189286Z",
     "start_time": "2024-02-20T08:30:20.641898Z"
    }
   },
   "outputs": [
    {
     "ename": "ZeroDivisionError",
     "evalue": "division by zero",
     "output_type": "error",
     "traceback": [
      "\u001b[1;31m---------------------------------------------------------------------------\u001b[0m",
      "\u001b[1;31mZeroDivisionError\u001b[0m                         Traceback (most recent call last)",
      "Cell \u001b[1;32mIn[157], line 3\u001b[0m\n\u001b[0;32m      1\u001b[0m i \u001b[38;5;241m=\u001b[39m \u001b[38;5;241m37799\u001b[39m\n\u001b[0;32m      2\u001b[0m model \u001b[38;5;241m=\u001b[39m TSB(alpha_d\u001b[38;5;241m=\u001b[39m\u001b[38;5;241m0.2\u001b[39m, alpha_p\u001b[38;5;241m=\u001b[39m\u001b[38;5;241m0.2\u001b[39m)\n\u001b[1;32m----> 3\u001b[0m model \u001b[38;5;241m=\u001b[39m model\u001b[38;5;241m.\u001b[39mfit(y\u001b[38;5;241m=\u001b[39mtrain_statsforecast[\u001b[38;5;124m'\u001b[39m\u001b[38;5;124my\u001b[39m\u001b[38;5;124m'\u001b[39m]\u001b[38;5;241m.\u001b[39mloc[train_statsforecast[\u001b[38;5;124m'\u001b[39m\u001b[38;5;124munique_id\u001b[39m\u001b[38;5;124m'\u001b[39m]\u001b[38;5;241m==\u001b[39mi]\u001b[38;5;241m.\u001b[39mvalues)\n\u001b[0;32m      4\u001b[0m y_hat_dict \u001b[38;5;241m=\u001b[39m model\u001b[38;5;241m.\u001b[39mpredict(h\u001b[38;5;241m=\u001b[39m\u001b[38;5;241m12\u001b[39m)\n\u001b[0;32m      5\u001b[0m predict_TSB_sf\u001b[38;5;241m.\u001b[39miloc[:,i] \u001b[38;5;241m=\u001b[39m y_hat_dict[\u001b[38;5;124m'\u001b[39m\u001b[38;5;124mmean\u001b[39m\u001b[38;5;124m'\u001b[39m]\n",
      "File \u001b[1;32m~\\anaconda3\\Lib\\site-packages\\statsforecast\\models.py:4794\u001b[0m, in \u001b[0;36mTSB.fit\u001b[1;34m(self, y, X)\u001b[0m\n\u001b[0;32m   4775\u001b[0m \u001b[38;5;28;01mdef\u001b[39;00m \u001b[38;5;21mfit\u001b[39m(\n\u001b[0;32m   4776\u001b[0m     \u001b[38;5;28mself\u001b[39m,\n\u001b[0;32m   4777\u001b[0m     y: np\u001b[38;5;241m.\u001b[39mndarray,\n\u001b[0;32m   4778\u001b[0m     X: Optional[np\u001b[38;5;241m.\u001b[39mndarray] \u001b[38;5;241m=\u001b[39m \u001b[38;5;28;01mNone\u001b[39;00m,\n\u001b[0;32m   4779\u001b[0m ):\n\u001b[0;32m   4780\u001b[0m \u001b[38;5;250m    \u001b[39m\u001b[38;5;124;03m\"\"\"Fit the TSB model.\u001b[39;00m\n\u001b[0;32m   4781\u001b[0m \n\u001b[0;32m   4782\u001b[0m \u001b[38;5;124;03m    Fit an TSB to a time series (numpy array) `y`.\u001b[39;00m\n\u001b[1;32m   (...)\u001b[0m\n\u001b[0;32m   4792\u001b[0m \u001b[38;5;124;03m        TSB fitted model.\u001b[39;00m\n\u001b[0;32m   4793\u001b[0m \u001b[38;5;124;03m    \"\"\"\u001b[39;00m\n\u001b[1;32m-> 4794\u001b[0m     mod \u001b[38;5;241m=\u001b[39m _tsb(y\u001b[38;5;241m=\u001b[39my, h\u001b[38;5;241m=\u001b[39m\u001b[38;5;241m1\u001b[39m, fitted\u001b[38;5;241m=\u001b[39m\u001b[38;5;28;01mFalse\u001b[39;00m, alpha_d\u001b[38;5;241m=\u001b[39m\u001b[38;5;28mself\u001b[39m\u001b[38;5;241m.\u001b[39malpha_d, alpha_p\u001b[38;5;241m=\u001b[39m\u001b[38;5;28mself\u001b[39m\u001b[38;5;241m.\u001b[39malpha_p)\n\u001b[0;32m   4795\u001b[0m     \u001b[38;5;28mself\u001b[39m\u001b[38;5;241m.\u001b[39mmodel_ \u001b[38;5;241m=\u001b[39m \u001b[38;5;28mdict\u001b[39m(mod)\n\u001b[0;32m   4796\u001b[0m     \u001b[38;5;28mself\u001b[39m\u001b[38;5;241m.\u001b[39m_store_cs(y\u001b[38;5;241m=\u001b[39my, X\u001b[38;5;241m=\u001b[39mX)\n",
      "\u001b[1;31mZeroDivisionError\u001b[0m: division by zero"
     ]
    }
   ],
   "source": [
    "i = 37799\n",
    "model = TSB(alpha_d=0.2, alpha_p=0.2)\n",
    "model = model.fit(y=train_statsforecast['y'].loc[train_statsforecast['unique_id']==i].values)\n",
    "y_hat_dict = model.predict(h=12)\n",
    "predict_TSB_sf.iloc[:,i] = y_hat_dict['mean']"
   ]
  },
  {
   "cell_type": "code",
   "execution_count": 158,
   "id": "ca0d26d3",
   "metadata": {
    "ExecuteTime": {
     "end_time": "2024-02-20T09:04:41.345158Z",
     "start_time": "2024-02-20T09:04:39.744791Z"
    }
   },
   "outputs": [
    {
     "data": {
      "text/plain": [
       "array([ 0,  0,  0,  0,  0,  0,  0,  0,  0,  0,  0,  0,  0,  0,  0,  0,  0,\n",
       "        0,  0,  0,  0,  0,  0,  0,  0, -1,  0,  0,  0,  0,  0,  0,  0,  0,\n",
       "        0,  0,  0,  0,  0,  0,  0,  0,  0,  0,  0,  0,  0,  0,  0,  0,  0,\n",
       "        0,  0,  0,  0,  0,  0,  0,  0,  0,  0,  0,  0,  0,  0,  0,  0,  0,\n",
       "        0,  0,  0,  0,  0,  0,  0,  0,  0,  0,  0,  0,  0,  0,  0,  0,  0,\n",
       "        0,  0,  0,  0,  0,  0,  0,  0,  0,  0,  0,  0,  0,  0,  0,  0,  0,\n",
       "        0,  0,  0,  0,  0,  0,  0,  0,  0,  0,  0,  0,  0,  0,  0,  0,  0,\n",
       "        0,  0,  0,  0,  0,  0,  0,  0,  0,  0,  0,  0,  0,  0,  0,  0,  0,\n",
       "        0,  0,  0,  0,  0,  0,  0,  0,  0,  0,  0,  0,  0,  0,  0,  0,  0,\n",
       "        0,  0,  0], dtype=int64)"
      ]
     },
     "execution_count": 158,
     "metadata": {},
     "output_type": "execute_result"
    }
   ],
   "source": [
    "i = 37799\n",
    "train_statsforecast['y'].loc[train_statsforecast['unique_id']==i].values"
   ]
  },
  {
   "cell_type": "markdown",
   "id": "f0f83629",
   "metadata": {},
   "source": [
    "👉 Value < 0"
   ]
  },
  {
   "cell_type": "code",
   "execution_count": 11,
   "id": "2bbb6cc5",
   "metadata": {
    "ExecuteTime": {
     "end_time": "2024-02-21T02:24:01.470381Z",
     "start_time": "2024-02-21T02:24:01.386355Z"
    }
   },
   "outputs": [
    {
     "data": {
      "text/plain": [
       "13766"
      ]
     },
     "execution_count": 11,
     "metadata": {},
     "output_type": "execute_result"
    }
   ],
   "source": [
    "(df < 0).sum().sum()"
   ]
  },
  {
   "cell_type": "markdown",
   "id": "ca647c99",
   "metadata": {},
   "source": [
    "👉Value **negative** to 0"
   ]
  },
  {
   "cell_type": "code",
   "execution_count": 12,
   "id": "77fcc323",
   "metadata": {
    "ExecuteTime": {
     "end_time": "2024-02-21T02:24:35.981580Z",
     "start_time": "2024-02-21T02:24:10.475046Z"
    }
   },
   "outputs": [],
   "source": [
    "df = df.applymap(lambda x: 0 if x < 0 else x)"
   ]
  },
  {
   "cell_type": "code",
   "execution_count": 13,
   "id": "f4e11702",
   "metadata": {
    "ExecuteTime": {
     "end_time": "2024-02-21T02:24:49.566189Z",
     "start_time": "2024-02-21T02:24:49.502672Z"
    }
   },
   "outputs": [
    {
     "data": {
      "text/plain": [
       "0"
      ]
     },
     "execution_count": 13,
     "metadata": {},
     "output_type": "execute_result"
    }
   ],
   "source": [
    "(df < 0).sum().sum()"
   ]
  },
  {
   "cell_type": "code",
   "execution_count": 14,
   "id": "3b078f01",
   "metadata": {
    "ExecuteTime": {
     "end_time": "2024-02-21T02:25:02.329658Z",
     "start_time": "2024-02-21T02:24:58.859657Z"
    }
   },
   "outputs": [],
   "source": [
    "new_df = df.reset_index().melt( var_name='unique_id',id_vars='index', value_name='y')\n",
    "\n",
    "new_df = new_df.rename(columns={'index': 'ds'})\n",
    "new_df = new_df.reindex(columns=['unique_id','ds','y'])\n",
    "train_statsforecast = new_df.loc[new_df['ds'] < '2021-1-1']\n",
    "valid_statsforecast = new_df.loc[(new_df['ds'] >= '2021-1-1')]"
   ]
  },
  {
   "cell_type": "markdown",
   "id": "3711cb33",
   "metadata": {},
   "source": [
    "**Train**"
   ]
  },
  {
   "cell_type": "code",
   "execution_count": 31,
   "id": "78654c29",
   "metadata": {
    "ExecuteTime": {
     "end_time": "2024-02-21T02:31:12.468416Z",
     "start_time": "2024-02-21T02:31:12.456949Z"
    }
   },
   "outputs": [
    {
     "data": {
      "text/html": [
       "<div>\n",
       "<style scoped>\n",
       "    .dataframe tbody tr th:only-of-type {\n",
       "        vertical-align: middle;\n",
       "    }\n",
       "\n",
       "    .dataframe tbody tr th {\n",
       "        vertical-align: top;\n",
       "    }\n",
       "\n",
       "    .dataframe thead th {\n",
       "        text-align: right;\n",
       "    }\n",
       "</style>\n",
       "<table border=\"1\" class=\"dataframe\">\n",
       "  <thead>\n",
       "    <tr style=\"text-align: right;\">\n",
       "      <th></th>\n",
       "      <th>unique_id</th>\n",
       "      <th>ds</th>\n",
       "      <th>y</th>\n",
       "    </tr>\n",
       "  </thead>\n",
       "  <tbody>\n",
       "    <tr>\n",
       "      <th>168</th>\n",
       "      <td>1</td>\n",
       "      <td>2008-01-01</td>\n",
       "      <td>0</td>\n",
       "    </tr>\n",
       "    <tr>\n",
       "      <th>169</th>\n",
       "      <td>1</td>\n",
       "      <td>2008-02-01</td>\n",
       "      <td>0</td>\n",
       "    </tr>\n",
       "    <tr>\n",
       "      <th>170</th>\n",
       "      <td>1</td>\n",
       "      <td>2008-03-01</td>\n",
       "      <td>0</td>\n",
       "    </tr>\n",
       "    <tr>\n",
       "      <th>171</th>\n",
       "      <td>1</td>\n",
       "      <td>2008-04-01</td>\n",
       "      <td>0</td>\n",
       "    </tr>\n",
       "    <tr>\n",
       "      <th>172</th>\n",
       "      <td>1</td>\n",
       "      <td>2008-05-01</td>\n",
       "      <td>0</td>\n",
       "    </tr>\n",
       "    <tr>\n",
       "      <th>...</th>\n",
       "      <td>...</td>\n",
       "      <td>...</td>\n",
       "      <td>...</td>\n",
       "    </tr>\n",
       "    <tr>\n",
       "      <th>319</th>\n",
       "      <td>1</td>\n",
       "      <td>2020-08-01</td>\n",
       "      <td>0</td>\n",
       "    </tr>\n",
       "    <tr>\n",
       "      <th>320</th>\n",
       "      <td>1</td>\n",
       "      <td>2020-09-01</td>\n",
       "      <td>0</td>\n",
       "    </tr>\n",
       "    <tr>\n",
       "      <th>321</th>\n",
       "      <td>1</td>\n",
       "      <td>2020-10-01</td>\n",
       "      <td>0</td>\n",
       "    </tr>\n",
       "    <tr>\n",
       "      <th>322</th>\n",
       "      <td>1</td>\n",
       "      <td>2020-11-01</td>\n",
       "      <td>0</td>\n",
       "    </tr>\n",
       "    <tr>\n",
       "      <th>323</th>\n",
       "      <td>1</td>\n",
       "      <td>2020-12-01</td>\n",
       "      <td>0</td>\n",
       "    </tr>\n",
       "  </tbody>\n",
       "</table>\n",
       "<p>156 rows × 3 columns</p>\n",
       "</div>"
      ],
      "text/plain": [
       "    unique_id         ds  y\n",
       "168         1 2008-01-01  0\n",
       "169         1 2008-02-01  0\n",
       "170         1 2008-03-01  0\n",
       "171         1 2008-04-01  0\n",
       "172         1 2008-05-01  0\n",
       "..        ...        ... ..\n",
       "319         1 2020-08-01  0\n",
       "320         1 2020-09-01  0\n",
       "321         1 2020-10-01  0\n",
       "322         1 2020-11-01  0\n",
       "323         1 2020-12-01  0\n",
       "\n",
       "[156 rows x 3 columns]"
      ]
     },
     "execution_count": 31,
     "metadata": {},
     "output_type": "execute_result"
    }
   ],
   "source": [
    "train_statsforecast.iloc[i:i+156]"
   ]
  },
  {
   "cell_type": "code",
   "execution_count": 29,
   "id": "59544877",
   "metadata": {
    "ExecuteTime": {
     "end_time": "2024-02-21T02:30:50.224526Z",
     "start_time": "2024-02-21T02:30:50.217660Z"
    }
   },
   "outputs": [
    {
     "data": {
      "text/plain": [
       "{'mean': array([0., 0., 0., 0., 0., 0., 0., 0., 0., 0., 0., 0.], dtype=float32)}"
      ]
     },
     "execution_count": 29,
     "metadata": {},
     "output_type": "execute_result"
    }
   ],
   "source": [
    "i = 0 +156\n",
    "model = TSB(alpha_d=0.2, alpha_p=0.2)\n",
    "model = model.fit(y=train_statsforecast.iloc[i:i+156,2].values)\n",
    "y_hat_dict = model.predict(h=12)\n",
    "y_hat_dict"
   ]
  },
  {
   "cell_type": "code",
   "execution_count": 32,
   "id": "157a7bda",
   "metadata": {
    "ExecuteTime": {
     "end_time": "2024-02-21T03:08:19.767204Z",
     "start_time": "2024-02-21T02:32:37.626967Z"
    }
   },
   "outputs": [
    {
     "name": "stderr",
     "output_type": "stream",
     "text": [
      "100%|██████████████████████████████████████████████████████████████████████████| 150809/150809 [35:42<00:00, 70.40it/s]\n"
     ]
    }
   ],
   "source": [
    "for i in tqdm(range(150809),position=0,leave=True):\n",
    "    model = TSB(alpha_d=0.2, alpha_p=0.2)\n",
    "    model = model.fit(y=train_statsforecast.iloc[i:i+156,2].values)\n",
    "    y_hat_dict = model.predict(h=12)\n",
    "    predict_TSB_sf.iloc[:,i] = y_hat_dict['mean']\n",
    "    i += 155"
   ]
  },
  {
   "cell_type": "code",
   "execution_count": 33,
   "id": "5ceb86a1",
   "metadata": {
    "ExecuteTime": {
     "end_time": "2024-02-21T03:11:21.374533Z",
     "start_time": "2024-02-21T03:11:20.880633Z"
    }
   },
   "outputs": [
    {
     "data": {
      "text/html": [
       "<div>\n",
       "<style scoped>\n",
       "    .dataframe tbody tr th:only-of-type {\n",
       "        vertical-align: middle;\n",
       "    }\n",
       "\n",
       "    .dataframe tbody tr th {\n",
       "        vertical-align: top;\n",
       "    }\n",
       "\n",
       "    .dataframe thead th {\n",
       "        text-align: right;\n",
       "    }\n",
       "</style>\n",
       "<table border=\"1\" class=\"dataframe\">\n",
       "  <thead>\n",
       "    <tr style=\"text-align: right;\">\n",
       "      <th></th>\n",
       "      <th>0</th>\n",
       "      <th>1</th>\n",
       "      <th>2</th>\n",
       "      <th>3</th>\n",
       "      <th>4</th>\n",
       "      <th>5</th>\n",
       "      <th>6</th>\n",
       "      <th>7</th>\n",
       "      <th>8</th>\n",
       "      <th>9</th>\n",
       "      <th>...</th>\n",
       "      <th>150800</th>\n",
       "      <th>150801</th>\n",
       "      <th>150802</th>\n",
       "      <th>150803</th>\n",
       "      <th>150804</th>\n",
       "      <th>150805</th>\n",
       "      <th>150806</th>\n",
       "      <th>150807</th>\n",
       "      <th>150808</th>\n",
       "      <th>150809</th>\n",
       "    </tr>\n",
       "  </thead>\n",
       "  <tbody>\n",
       "    <tr>\n",
       "      <th>2021-01-01</th>\n",
       "      <td>0.00196</td>\n",
       "      <td>0.001568</td>\n",
       "      <td>0.001254</td>\n",
       "      <td>0.001004</td>\n",
       "      <td>0.000803</td>\n",
       "      <td>0.000642</td>\n",
       "      <td>0.000514</td>\n",
       "      <td>0.000411</td>\n",
       "      <td>0.000329</td>\n",
       "      <td>0.000263</td>\n",
       "      <td>...</td>\n",
       "      <td>1.978969</td>\n",
       "      <td>1.583175</td>\n",
       "      <td>1.667183</td>\n",
       "      <td>1.734158</td>\n",
       "      <td>1.387326</td>\n",
       "      <td>1.660782</td>\n",
       "      <td>1.736952</td>\n",
       "      <td>1.62668</td>\n",
       "      <td>1.301344</td>\n",
       "      <td>0</td>\n",
       "    </tr>\n",
       "    <tr>\n",
       "      <th>2021-02-01</th>\n",
       "      <td>0.00196</td>\n",
       "      <td>0.001568</td>\n",
       "      <td>0.001254</td>\n",
       "      <td>0.001004</td>\n",
       "      <td>0.000803</td>\n",
       "      <td>0.000642</td>\n",
       "      <td>0.000514</td>\n",
       "      <td>0.000411</td>\n",
       "      <td>0.000329</td>\n",
       "      <td>0.000263</td>\n",
       "      <td>...</td>\n",
       "      <td>1.978969</td>\n",
       "      <td>1.583175</td>\n",
       "      <td>1.667183</td>\n",
       "      <td>1.734158</td>\n",
       "      <td>1.387326</td>\n",
       "      <td>1.660782</td>\n",
       "      <td>1.736952</td>\n",
       "      <td>1.62668</td>\n",
       "      <td>1.301344</td>\n",
       "      <td>0</td>\n",
       "    </tr>\n",
       "    <tr>\n",
       "      <th>2021-03-01</th>\n",
       "      <td>0.00196</td>\n",
       "      <td>0.001568</td>\n",
       "      <td>0.001254</td>\n",
       "      <td>0.001004</td>\n",
       "      <td>0.000803</td>\n",
       "      <td>0.000642</td>\n",
       "      <td>0.000514</td>\n",
       "      <td>0.000411</td>\n",
       "      <td>0.000329</td>\n",
       "      <td>0.000263</td>\n",
       "      <td>...</td>\n",
       "      <td>1.978969</td>\n",
       "      <td>1.583175</td>\n",
       "      <td>1.667183</td>\n",
       "      <td>1.734158</td>\n",
       "      <td>1.387326</td>\n",
       "      <td>1.660782</td>\n",
       "      <td>1.736952</td>\n",
       "      <td>1.62668</td>\n",
       "      <td>1.301344</td>\n",
       "      <td>0</td>\n",
       "    </tr>\n",
       "    <tr>\n",
       "      <th>2021-04-01</th>\n",
       "      <td>0.00196</td>\n",
       "      <td>0.001568</td>\n",
       "      <td>0.001254</td>\n",
       "      <td>0.001004</td>\n",
       "      <td>0.000803</td>\n",
       "      <td>0.000642</td>\n",
       "      <td>0.000514</td>\n",
       "      <td>0.000411</td>\n",
       "      <td>0.000329</td>\n",
       "      <td>0.000263</td>\n",
       "      <td>...</td>\n",
       "      <td>1.978969</td>\n",
       "      <td>1.583175</td>\n",
       "      <td>1.667183</td>\n",
       "      <td>1.734158</td>\n",
       "      <td>1.387326</td>\n",
       "      <td>1.660782</td>\n",
       "      <td>1.736952</td>\n",
       "      <td>1.62668</td>\n",
       "      <td>1.301344</td>\n",
       "      <td>0</td>\n",
       "    </tr>\n",
       "    <tr>\n",
       "      <th>2021-05-01</th>\n",
       "      <td>0.00196</td>\n",
       "      <td>0.001568</td>\n",
       "      <td>0.001254</td>\n",
       "      <td>0.001004</td>\n",
       "      <td>0.000803</td>\n",
       "      <td>0.000642</td>\n",
       "      <td>0.000514</td>\n",
       "      <td>0.000411</td>\n",
       "      <td>0.000329</td>\n",
       "      <td>0.000263</td>\n",
       "      <td>...</td>\n",
       "      <td>1.978969</td>\n",
       "      <td>1.583175</td>\n",
       "      <td>1.667183</td>\n",
       "      <td>1.734158</td>\n",
       "      <td>1.387326</td>\n",
       "      <td>1.660782</td>\n",
       "      <td>1.736952</td>\n",
       "      <td>1.62668</td>\n",
       "      <td>1.301344</td>\n",
       "      <td>0</td>\n",
       "    </tr>\n",
       "    <tr>\n",
       "      <th>2021-06-01</th>\n",
       "      <td>0.00196</td>\n",
       "      <td>0.001568</td>\n",
       "      <td>0.001254</td>\n",
       "      <td>0.001004</td>\n",
       "      <td>0.000803</td>\n",
       "      <td>0.000642</td>\n",
       "      <td>0.000514</td>\n",
       "      <td>0.000411</td>\n",
       "      <td>0.000329</td>\n",
       "      <td>0.000263</td>\n",
       "      <td>...</td>\n",
       "      <td>1.978969</td>\n",
       "      <td>1.583175</td>\n",
       "      <td>1.667183</td>\n",
       "      <td>1.734158</td>\n",
       "      <td>1.387326</td>\n",
       "      <td>1.660782</td>\n",
       "      <td>1.736952</td>\n",
       "      <td>1.62668</td>\n",
       "      <td>1.301344</td>\n",
       "      <td>0</td>\n",
       "    </tr>\n",
       "    <tr>\n",
       "      <th>2021-07-01</th>\n",
       "      <td>0.00196</td>\n",
       "      <td>0.001568</td>\n",
       "      <td>0.001254</td>\n",
       "      <td>0.001004</td>\n",
       "      <td>0.000803</td>\n",
       "      <td>0.000642</td>\n",
       "      <td>0.000514</td>\n",
       "      <td>0.000411</td>\n",
       "      <td>0.000329</td>\n",
       "      <td>0.000263</td>\n",
       "      <td>...</td>\n",
       "      <td>1.978969</td>\n",
       "      <td>1.583175</td>\n",
       "      <td>1.667183</td>\n",
       "      <td>1.734158</td>\n",
       "      <td>1.387326</td>\n",
       "      <td>1.660782</td>\n",
       "      <td>1.736952</td>\n",
       "      <td>1.62668</td>\n",
       "      <td>1.301344</td>\n",
       "      <td>0</td>\n",
       "    </tr>\n",
       "    <tr>\n",
       "      <th>2021-08-01</th>\n",
       "      <td>0.00196</td>\n",
       "      <td>0.001568</td>\n",
       "      <td>0.001254</td>\n",
       "      <td>0.001004</td>\n",
       "      <td>0.000803</td>\n",
       "      <td>0.000642</td>\n",
       "      <td>0.000514</td>\n",
       "      <td>0.000411</td>\n",
       "      <td>0.000329</td>\n",
       "      <td>0.000263</td>\n",
       "      <td>...</td>\n",
       "      <td>1.978969</td>\n",
       "      <td>1.583175</td>\n",
       "      <td>1.667183</td>\n",
       "      <td>1.734158</td>\n",
       "      <td>1.387326</td>\n",
       "      <td>1.660782</td>\n",
       "      <td>1.736952</td>\n",
       "      <td>1.62668</td>\n",
       "      <td>1.301344</td>\n",
       "      <td>0</td>\n",
       "    </tr>\n",
       "    <tr>\n",
       "      <th>2021-09-01</th>\n",
       "      <td>0.00196</td>\n",
       "      <td>0.001568</td>\n",
       "      <td>0.001254</td>\n",
       "      <td>0.001004</td>\n",
       "      <td>0.000803</td>\n",
       "      <td>0.000642</td>\n",
       "      <td>0.000514</td>\n",
       "      <td>0.000411</td>\n",
       "      <td>0.000329</td>\n",
       "      <td>0.000263</td>\n",
       "      <td>...</td>\n",
       "      <td>1.978969</td>\n",
       "      <td>1.583175</td>\n",
       "      <td>1.667183</td>\n",
       "      <td>1.734158</td>\n",
       "      <td>1.387326</td>\n",
       "      <td>1.660782</td>\n",
       "      <td>1.736952</td>\n",
       "      <td>1.62668</td>\n",
       "      <td>1.301344</td>\n",
       "      <td>0</td>\n",
       "    </tr>\n",
       "    <tr>\n",
       "      <th>2021-10-01</th>\n",
       "      <td>0.00196</td>\n",
       "      <td>0.001568</td>\n",
       "      <td>0.001254</td>\n",
       "      <td>0.001004</td>\n",
       "      <td>0.000803</td>\n",
       "      <td>0.000642</td>\n",
       "      <td>0.000514</td>\n",
       "      <td>0.000411</td>\n",
       "      <td>0.000329</td>\n",
       "      <td>0.000263</td>\n",
       "      <td>...</td>\n",
       "      <td>1.978969</td>\n",
       "      <td>1.583175</td>\n",
       "      <td>1.667183</td>\n",
       "      <td>1.734158</td>\n",
       "      <td>1.387326</td>\n",
       "      <td>1.660782</td>\n",
       "      <td>1.736952</td>\n",
       "      <td>1.62668</td>\n",
       "      <td>1.301344</td>\n",
       "      <td>0</td>\n",
       "    </tr>\n",
       "    <tr>\n",
       "      <th>2021-11-01</th>\n",
       "      <td>0.00196</td>\n",
       "      <td>0.001568</td>\n",
       "      <td>0.001254</td>\n",
       "      <td>0.001004</td>\n",
       "      <td>0.000803</td>\n",
       "      <td>0.000642</td>\n",
       "      <td>0.000514</td>\n",
       "      <td>0.000411</td>\n",
       "      <td>0.000329</td>\n",
       "      <td>0.000263</td>\n",
       "      <td>...</td>\n",
       "      <td>1.978969</td>\n",
       "      <td>1.583175</td>\n",
       "      <td>1.667183</td>\n",
       "      <td>1.734158</td>\n",
       "      <td>1.387326</td>\n",
       "      <td>1.660782</td>\n",
       "      <td>1.736952</td>\n",
       "      <td>1.62668</td>\n",
       "      <td>1.301344</td>\n",
       "      <td>0</td>\n",
       "    </tr>\n",
       "    <tr>\n",
       "      <th>2021-12-01</th>\n",
       "      <td>0.00196</td>\n",
       "      <td>0.001568</td>\n",
       "      <td>0.001254</td>\n",
       "      <td>0.001004</td>\n",
       "      <td>0.000803</td>\n",
       "      <td>0.000642</td>\n",
       "      <td>0.000514</td>\n",
       "      <td>0.000411</td>\n",
       "      <td>0.000329</td>\n",
       "      <td>0.000263</td>\n",
       "      <td>...</td>\n",
       "      <td>1.978969</td>\n",
       "      <td>1.583175</td>\n",
       "      <td>1.667183</td>\n",
       "      <td>1.734158</td>\n",
       "      <td>1.387326</td>\n",
       "      <td>1.660782</td>\n",
       "      <td>1.736952</td>\n",
       "      <td>1.62668</td>\n",
       "      <td>1.301344</td>\n",
       "      <td>0</td>\n",
       "    </tr>\n",
       "  </tbody>\n",
       "</table>\n",
       "<p>12 rows × 150810 columns</p>\n",
       "</div>"
      ],
      "text/plain": [
       "             0         1         2         3         4         5       \\\n",
       "2021-01-01  0.00196  0.001568  0.001254  0.001004  0.000803  0.000642   \n",
       "2021-02-01  0.00196  0.001568  0.001254  0.001004  0.000803  0.000642   \n",
       "2021-03-01  0.00196  0.001568  0.001254  0.001004  0.000803  0.000642   \n",
       "2021-04-01  0.00196  0.001568  0.001254  0.001004  0.000803  0.000642   \n",
       "2021-05-01  0.00196  0.001568  0.001254  0.001004  0.000803  0.000642   \n",
       "2021-06-01  0.00196  0.001568  0.001254  0.001004  0.000803  0.000642   \n",
       "2021-07-01  0.00196  0.001568  0.001254  0.001004  0.000803  0.000642   \n",
       "2021-08-01  0.00196  0.001568  0.001254  0.001004  0.000803  0.000642   \n",
       "2021-09-01  0.00196  0.001568  0.001254  0.001004  0.000803  0.000642   \n",
       "2021-10-01  0.00196  0.001568  0.001254  0.001004  0.000803  0.000642   \n",
       "2021-11-01  0.00196  0.001568  0.001254  0.001004  0.000803  0.000642   \n",
       "2021-12-01  0.00196  0.001568  0.001254  0.001004  0.000803  0.000642   \n",
       "\n",
       "              6         7         8         9       ...    150800    150801  \\\n",
       "2021-01-01  0.000514  0.000411  0.000329  0.000263  ...  1.978969  1.583175   \n",
       "2021-02-01  0.000514  0.000411  0.000329  0.000263  ...  1.978969  1.583175   \n",
       "2021-03-01  0.000514  0.000411  0.000329  0.000263  ...  1.978969  1.583175   \n",
       "2021-04-01  0.000514  0.000411  0.000329  0.000263  ...  1.978969  1.583175   \n",
       "2021-05-01  0.000514  0.000411  0.000329  0.000263  ...  1.978969  1.583175   \n",
       "2021-06-01  0.000514  0.000411  0.000329  0.000263  ...  1.978969  1.583175   \n",
       "2021-07-01  0.000514  0.000411  0.000329  0.000263  ...  1.978969  1.583175   \n",
       "2021-08-01  0.000514  0.000411  0.000329  0.000263  ...  1.978969  1.583175   \n",
       "2021-09-01  0.000514  0.000411  0.000329  0.000263  ...  1.978969  1.583175   \n",
       "2021-10-01  0.000514  0.000411  0.000329  0.000263  ...  1.978969  1.583175   \n",
       "2021-11-01  0.000514  0.000411  0.000329  0.000263  ...  1.978969  1.583175   \n",
       "2021-12-01  0.000514  0.000411  0.000329  0.000263  ...  1.978969  1.583175   \n",
       "\n",
       "              150802    150803    150804    150805    150806   150807  \\\n",
       "2021-01-01  1.667183  1.734158  1.387326  1.660782  1.736952  1.62668   \n",
       "2021-02-01  1.667183  1.734158  1.387326  1.660782  1.736952  1.62668   \n",
       "2021-03-01  1.667183  1.734158  1.387326  1.660782  1.736952  1.62668   \n",
       "2021-04-01  1.667183  1.734158  1.387326  1.660782  1.736952  1.62668   \n",
       "2021-05-01  1.667183  1.734158  1.387326  1.660782  1.736952  1.62668   \n",
       "2021-06-01  1.667183  1.734158  1.387326  1.660782  1.736952  1.62668   \n",
       "2021-07-01  1.667183  1.734158  1.387326  1.660782  1.736952  1.62668   \n",
       "2021-08-01  1.667183  1.734158  1.387326  1.660782  1.736952  1.62668   \n",
       "2021-09-01  1.667183  1.734158  1.387326  1.660782  1.736952  1.62668   \n",
       "2021-10-01  1.667183  1.734158  1.387326  1.660782  1.736952  1.62668   \n",
       "2021-11-01  1.667183  1.734158  1.387326  1.660782  1.736952  1.62668   \n",
       "2021-12-01  1.667183  1.734158  1.387326  1.660782  1.736952  1.62668   \n",
       "\n",
       "              150808  150809  \n",
       "2021-01-01  1.301344       0  \n",
       "2021-02-01  1.301344       0  \n",
       "2021-03-01  1.301344       0  \n",
       "2021-04-01  1.301344       0  \n",
       "2021-05-01  1.301344       0  \n",
       "2021-06-01  1.301344       0  \n",
       "2021-07-01  1.301344       0  \n",
       "2021-08-01  1.301344       0  \n",
       "2021-09-01  1.301344       0  \n",
       "2021-10-01  1.301344       0  \n",
       "2021-11-01  1.301344       0  \n",
       "2021-12-01  1.301344       0  \n",
       "\n",
       "[12 rows x 150810 columns]"
      ]
     },
     "execution_count": 33,
     "metadata": {},
     "output_type": "execute_result"
    }
   ],
   "source": [
    "predict_TSB_sf"
   ]
  },
  {
   "cell_type": "code",
   "execution_count": 38,
   "id": "eeee3535",
   "metadata": {
    "ExecuteTime": {
     "end_time": "2024-02-21T03:13:55.145744Z",
     "start_time": "2024-02-21T03:13:10.721446Z"
    }
   },
   "outputs": [],
   "source": [
    "predict_TSB_sf.to_csv('../exp/TSB_Statforecast.txt')"
   ]
  },
  {
   "cell_type": "markdown",
   "id": "dfa20a70",
   "metadata": {},
   "source": [
    "# Metrics:"
   ]
  },
  {
   "cell_type": "markdown",
   "id": "dbfd54c9",
   "metadata": {},
   "source": [
    "**Mean Errors Percentage (MEP)**"
   ]
  },
  {
   "cell_type": "markdown",
   "id": "a7bbb0ed",
   "metadata": {},
   "source": [
    "only for Croston to its"
   ]
  },
  {
   "cell_type": "markdown",
   "id": "2892c89e",
   "metadata": {},
   "source": [
    "\n",
    "<font size=5>👉 $ MEP = \\%\\bar{e} = \\frac{1}{n}\\sum\\limits_{i=1}^{n}|\\frac{(\\hat{y}_i-y_i)}{\\bar{y}}|$"
   ]
  },
  {
   "cell_type": "markdown",
   "id": "2c7b8a9e",
   "metadata": {},
   "source": [
    "<span style=\"color: green; font-size: 24px;\">&#10004;</span>aim to forecast best mean for next 12 months"
   ]
  },
  {
   "cell_type": "markdown",
   "id": "0491c164",
   "metadata": {},
   "source": [
    "<font size =5> &#x1F4DA; Ex:"
   ]
  },
  {
   "cell_type": "markdown",
   "id": "aaf5bba6",
   "metadata": {},
   "source": [
    "<font size=4>👉 $\\hat{y}=2$"
   ]
  },
  {
   "attachments": {
    "image-2.png": {
     "image/png": "[encoded data removed]"
    }
   },
   "cell_type": "markdown",
   "id": "b09dfb78",
   "metadata": {},
   "source": [
    "![image-2.png](attachment:image-2.png)"
   ]
  },
  {
   "cell_type": "markdown",
   "id": "796bd560",
   "metadata": {},
   "source": [
    "<font size=4>👉 $\\hat{y}=1$"
   ]
  },
  {
   "attachments": {
    "image.png": {
     "image/png": "[encoded data removed]"
    }
   },
   "cell_type": "markdown",
   "id": "5a4279da",
   "metadata": {},
   "source": [
    "![image.png](attachment:image.png)"
   ]
  },
  {
   "cell_type": "markdown",
   "id": "05bc04a1",
   "metadata": {},
   "source": [
    "<font size=4>👉 $\\hat{y}=1.8$"
   ]
  },
  {
   "attachments": {
    "image.png": {
     "image/png": "[encoded data removed]"
    }
   },
   "cell_type": "markdown",
   "id": "0bdb2a02",
   "metadata": {},
   "source": [
    "![image.png](attachment:image.png)"
   ]
  },
  {
   "cell_type": "markdown",
   "id": "e4c9506b",
   "metadata": {
    "ExecuteTime": {
     "end_time": "2024-02-22T02:32:11.015154Z",
     "start_time": "2024-02-22T02:32:11.005231Z"
    }
   },
   "source": [
    "⚠️Nhược điểm"
   ]
  },
  {
   "cell_type": "code",
   "execution_count": 112,
   "id": "f721b982",
   "metadata": {
    "ExecuteTime": {
     "end_time": "2024-02-22T03:08:15.728069Z",
     "start_time": "2024-02-22T03:08:15.723829Z"
    }
   },
   "outputs": [],
   "source": [
    "def MEP(y_hat,y):\n",
    "    n = len(y)\n",
    "    E = sum(y_hat - y)\n",
    "    y_mean = y.mean()\n",
    "    if y_mean!=0:\n",
    "        return (1 - abs(E)/(y_mean*n))*100, False \n",
    "    return 100-100*abs(E)/n,True"
   ]
  },
  {
   "cell_type": "markdown",
   "id": "2e88b274",
   "metadata": {},
   "source": [
    "```\n",
    "    Return (1-MEP, is full zeroes)\n",
    "```    "
   ]
  },
  {
   "cell_type": "markdown",
   "id": "802a88eb",
   "metadata": {},
   "source": [
    "# Conclusion"
   ]
  },
  {
   "cell_type": "markdown",
   "id": "6ca0a0a9",
   "metadata": {
    "ExecuteTime": {
     "end_time": "2024-02-21T04:00:18.186654Z",
     "start_time": "2024-02-21T04:00:18.183358Z"
    }
   },
   "source": [
    "## Preprocess"
   ]
  },
  {
   "cell_type": "code",
   "execution_count": 51,
   "id": "340a3416",
   "metadata": {
    "ExecuteTime": {
     "end_time": "2024-02-21T03:56:01.993287Z",
     "start_time": "2024-02-21T03:55:52.903634Z"
    }
   },
   "outputs": [],
   "source": [
    "Classic_raw = pd.read_csv('../exp/Croston_Statforecast.txt')\n",
    "TSB = pd.read_csv('../exp/TSB_Statforecast.txt')"
   ]
  },
  {
   "cell_type": "code",
   "execution_count": 52,
   "id": "737529e7",
   "metadata": {
    "ExecuteTime": {
     "end_time": "2024-02-21T03:56:16.913508Z",
     "start_time": "2024-02-21T03:56:16.903310Z"
    }
   },
   "outputs": [
    {
     "data": {
      "text/html": [
       "<div>\n",
       "<style scoped>\n",
       "    .dataframe tbody tr th:only-of-type {\n",
       "        vertical-align: middle;\n",
       "    }\n",
       "\n",
       "    .dataframe tbody tr th {\n",
       "        vertical-align: top;\n",
       "    }\n",
       "\n",
       "    .dataframe thead th {\n",
       "        text-align: right;\n",
       "    }\n",
       "</style>\n",
       "<table border=\"1\" class=\"dataframe\">\n",
       "  <thead>\n",
       "    <tr style=\"text-align: right;\">\n",
       "      <th></th>\n",
       "      <th>ds</th>\n",
       "      <th>unique_id</th>\n",
       "      <th>ds.1</th>\n",
       "      <th>CrostonClassic</th>\n",
       "    </tr>\n",
       "  </thead>\n",
       "  <tbody>\n",
       "    <tr>\n",
       "      <th>0</th>\n",
       "      <td>2021-01-01</td>\n",
       "      <td>0</td>\n",
       "      <td>2021-01-01</td>\n",
       "      <td>0.117377</td>\n",
       "    </tr>\n",
       "    <tr>\n",
       "      <th>1</th>\n",
       "      <td>2021-02-01</td>\n",
       "      <td>0</td>\n",
       "      <td>2021-02-01</td>\n",
       "      <td>0.117377</td>\n",
       "    </tr>\n",
       "    <tr>\n",
       "      <th>2</th>\n",
       "      <td>2021-03-01</td>\n",
       "      <td>0</td>\n",
       "      <td>2021-03-01</td>\n",
       "      <td>0.117377</td>\n",
       "    </tr>\n",
       "    <tr>\n",
       "      <th>3</th>\n",
       "      <td>2021-04-01</td>\n",
       "      <td>0</td>\n",
       "      <td>2021-04-01</td>\n",
       "      <td>0.117377</td>\n",
       "    </tr>\n",
       "    <tr>\n",
       "      <th>4</th>\n",
       "      <td>2021-05-01</td>\n",
       "      <td>0</td>\n",
       "      <td>2021-05-01</td>\n",
       "      <td>0.117377</td>\n",
       "    </tr>\n",
       "    <tr>\n",
       "      <th>...</th>\n",
       "      <td>...</td>\n",
       "      <td>...</td>\n",
       "      <td>...</td>\n",
       "      <td>...</td>\n",
       "    </tr>\n",
       "    <tr>\n",
       "      <th>1809715</th>\n",
       "      <td>2021-08-01</td>\n",
       "      <td>150809</td>\n",
       "      <td>2021-08-01</td>\n",
       "      <td>0.123668</td>\n",
       "    </tr>\n",
       "    <tr>\n",
       "      <th>1809716</th>\n",
       "      <td>2021-09-01</td>\n",
       "      <td>150809</td>\n",
       "      <td>2021-09-01</td>\n",
       "      <td>0.123668</td>\n",
       "    </tr>\n",
       "    <tr>\n",
       "      <th>1809717</th>\n",
       "      <td>2021-10-01</td>\n",
       "      <td>150809</td>\n",
       "      <td>2021-10-01</td>\n",
       "      <td>0.123668</td>\n",
       "    </tr>\n",
       "    <tr>\n",
       "      <th>1809718</th>\n",
       "      <td>2021-11-01</td>\n",
       "      <td>150809</td>\n",
       "      <td>2021-11-01</td>\n",
       "      <td>0.123668</td>\n",
       "    </tr>\n",
       "    <tr>\n",
       "      <th>1809719</th>\n",
       "      <td>2021-12-01</td>\n",
       "      <td>150809</td>\n",
       "      <td>2021-12-01</td>\n",
       "      <td>0.123668</td>\n",
       "    </tr>\n",
       "  </tbody>\n",
       "</table>\n",
       "<p>1809720 rows × 4 columns</p>\n",
       "</div>"
      ],
      "text/plain": [
       "                 ds  unique_id        ds.1  CrostonClassic\n",
       "0        2021-01-01          0  2021-01-01        0.117377\n",
       "1        2021-02-01          0  2021-02-01        0.117377\n",
       "2        2021-03-01          0  2021-03-01        0.117377\n",
       "3        2021-04-01          0  2021-04-01        0.117377\n",
       "4        2021-05-01          0  2021-05-01        0.117377\n",
       "...             ...        ...         ...             ...\n",
       "1809715  2021-08-01     150809  2021-08-01        0.123668\n",
       "1809716  2021-09-01     150809  2021-09-01        0.123668\n",
       "1809717  2021-10-01     150809  2021-10-01        0.123668\n",
       "1809718  2021-11-01     150809  2021-11-01        0.123668\n",
       "1809719  2021-12-01     150809  2021-12-01        0.123668\n",
       "\n",
       "[1809720 rows x 4 columns]"
      ]
     },
     "execution_count": 52,
     "metadata": {},
     "output_type": "execute_result"
    }
   ],
   "source": [
    "Classic_raw"
   ]
  },
  {
   "cell_type": "code",
   "execution_count": 53,
   "id": "f16456ab",
   "metadata": {
    "ExecuteTime": {
     "end_time": "2024-02-21T03:56:53.735294Z",
     "start_time": "2024-02-21T03:56:52.863498Z"
    }
   },
   "outputs": [
    {
     "data": {
      "text/html": [
       "<div>\n",
       "<style scoped>\n",
       "    .dataframe tbody tr th:only-of-type {\n",
       "        vertical-align: middle;\n",
       "    }\n",
       "\n",
       "    .dataframe tbody tr th {\n",
       "        vertical-align: top;\n",
       "    }\n",
       "\n",
       "    .dataframe thead th {\n",
       "        text-align: right;\n",
       "    }\n",
       "</style>\n",
       "<table border=\"1\" class=\"dataframe\">\n",
       "  <thead>\n",
       "    <tr style=\"text-align: right;\">\n",
       "      <th>unique_id</th>\n",
       "      <th>0</th>\n",
       "      <th>1</th>\n",
       "      <th>2</th>\n",
       "      <th>3</th>\n",
       "      <th>4</th>\n",
       "      <th>5</th>\n",
       "      <th>6</th>\n",
       "      <th>7</th>\n",
       "      <th>8</th>\n",
       "      <th>9</th>\n",
       "      <th>...</th>\n",
       "      <th>150800</th>\n",
       "      <th>150801</th>\n",
       "      <th>150802</th>\n",
       "      <th>150803</th>\n",
       "      <th>150804</th>\n",
       "      <th>150805</th>\n",
       "      <th>150806</th>\n",
       "      <th>150807</th>\n",
       "      <th>150808</th>\n",
       "      <th>150809</th>\n",
       "    </tr>\n",
       "    <tr>\n",
       "      <th>ds</th>\n",
       "      <th></th>\n",
       "      <th></th>\n",
       "      <th></th>\n",
       "      <th></th>\n",
       "      <th></th>\n",
       "      <th></th>\n",
       "      <th></th>\n",
       "      <th></th>\n",
       "      <th></th>\n",
       "      <th></th>\n",
       "      <th></th>\n",
       "      <th></th>\n",
       "      <th></th>\n",
       "      <th></th>\n",
       "      <th></th>\n",
       "      <th></th>\n",
       "      <th></th>\n",
       "      <th></th>\n",
       "      <th></th>\n",
       "      <th></th>\n",
       "      <th></th>\n",
       "    </tr>\n",
       "  </thead>\n",
       "  <tbody>\n",
       "    <tr>\n",
       "      <th>2021-01-01</th>\n",
       "      <td>0.117377</td>\n",
       "      <td>0.0</td>\n",
       "      <td>0.594219</td>\n",
       "      <td>0.01199</td>\n",
       "      <td>0.090909</td>\n",
       "      <td>2.709642</td>\n",
       "      <td>0.064103</td>\n",
       "      <td>0.595657</td>\n",
       "      <td>27.101166</td>\n",
       "      <td>0.0</td>\n",
       "      <td>...</td>\n",
       "      <td>3.935216</td>\n",
       "      <td>0.2</td>\n",
       "      <td>0.044886</td>\n",
       "      <td>0.014925</td>\n",
       "      <td>0.134692</td>\n",
       "      <td>0.056338</td>\n",
       "      <td>3.826199</td>\n",
       "      <td>0.020408</td>\n",
       "      <td>1.918256</td>\n",
       "      <td>0.123668</td>\n",
       "    </tr>\n",
       "    <tr>\n",
       "      <th>2021-02-01</th>\n",
       "      <td>0.117377</td>\n",
       "      <td>0.0</td>\n",
       "      <td>0.594219</td>\n",
       "      <td>0.01199</td>\n",
       "      <td>0.090909</td>\n",
       "      <td>2.709642</td>\n",
       "      <td>0.064103</td>\n",
       "      <td>0.595657</td>\n",
       "      <td>27.101166</td>\n",
       "      <td>0.0</td>\n",
       "      <td>...</td>\n",
       "      <td>3.935216</td>\n",
       "      <td>0.2</td>\n",
       "      <td>0.044886</td>\n",
       "      <td>0.014925</td>\n",
       "      <td>0.134692</td>\n",
       "      <td>0.056338</td>\n",
       "      <td>3.826199</td>\n",
       "      <td>0.020408</td>\n",
       "      <td>1.918256</td>\n",
       "      <td>0.123668</td>\n",
       "    </tr>\n",
       "    <tr>\n",
       "      <th>2021-03-01</th>\n",
       "      <td>0.117377</td>\n",
       "      <td>0.0</td>\n",
       "      <td>0.594219</td>\n",
       "      <td>0.01199</td>\n",
       "      <td>0.090909</td>\n",
       "      <td>2.709642</td>\n",
       "      <td>0.064103</td>\n",
       "      <td>0.595657</td>\n",
       "      <td>27.101166</td>\n",
       "      <td>0.0</td>\n",
       "      <td>...</td>\n",
       "      <td>3.935216</td>\n",
       "      <td>0.2</td>\n",
       "      <td>0.044886</td>\n",
       "      <td>0.014925</td>\n",
       "      <td>0.134692</td>\n",
       "      <td>0.056338</td>\n",
       "      <td>3.826199</td>\n",
       "      <td>0.020408</td>\n",
       "      <td>1.918256</td>\n",
       "      <td>0.123668</td>\n",
       "    </tr>\n",
       "    <tr>\n",
       "      <th>2021-04-01</th>\n",
       "      <td>0.117377</td>\n",
       "      <td>0.0</td>\n",
       "      <td>0.594219</td>\n",
       "      <td>0.01199</td>\n",
       "      <td>0.090909</td>\n",
       "      <td>2.709642</td>\n",
       "      <td>0.064103</td>\n",
       "      <td>0.595657</td>\n",
       "      <td>27.101166</td>\n",
       "      <td>0.0</td>\n",
       "      <td>...</td>\n",
       "      <td>3.935216</td>\n",
       "      <td>0.2</td>\n",
       "      <td>0.044886</td>\n",
       "      <td>0.014925</td>\n",
       "      <td>0.134692</td>\n",
       "      <td>0.056338</td>\n",
       "      <td>3.826199</td>\n",
       "      <td>0.020408</td>\n",
       "      <td>1.918256</td>\n",
       "      <td>0.123668</td>\n",
       "    </tr>\n",
       "    <tr>\n",
       "      <th>2021-05-01</th>\n",
       "      <td>0.117377</td>\n",
       "      <td>0.0</td>\n",
       "      <td>0.594219</td>\n",
       "      <td>0.01199</td>\n",
       "      <td>0.090909</td>\n",
       "      <td>2.709642</td>\n",
       "      <td>0.064103</td>\n",
       "      <td>0.595657</td>\n",
       "      <td>27.101166</td>\n",
       "      <td>0.0</td>\n",
       "      <td>...</td>\n",
       "      <td>3.935216</td>\n",
       "      <td>0.2</td>\n",
       "      <td>0.044886</td>\n",
       "      <td>0.014925</td>\n",
       "      <td>0.134692</td>\n",
       "      <td>0.056338</td>\n",
       "      <td>3.826199</td>\n",
       "      <td>0.020408</td>\n",
       "      <td>1.918256</td>\n",
       "      <td>0.123668</td>\n",
       "    </tr>\n",
       "    <tr>\n",
       "      <th>2021-06-01</th>\n",
       "      <td>0.117377</td>\n",
       "      <td>0.0</td>\n",
       "      <td>0.594219</td>\n",
       "      <td>0.01199</td>\n",
       "      <td>0.090909</td>\n",
       "      <td>2.709642</td>\n",
       "      <td>0.064103</td>\n",
       "      <td>0.595657</td>\n",
       "      <td>27.101166</td>\n",
       "      <td>0.0</td>\n",
       "      <td>...</td>\n",
       "      <td>3.935216</td>\n",
       "      <td>0.2</td>\n",
       "      <td>0.044886</td>\n",
       "      <td>0.014925</td>\n",
       "      <td>0.134692</td>\n",
       "      <td>0.056338</td>\n",
       "      <td>3.826199</td>\n",
       "      <td>0.020408</td>\n",
       "      <td>1.918256</td>\n",
       "      <td>0.123668</td>\n",
       "    </tr>\n",
       "    <tr>\n",
       "      <th>2021-07-01</th>\n",
       "      <td>0.117377</td>\n",
       "      <td>0.0</td>\n",
       "      <td>0.594219</td>\n",
       "      <td>0.01199</td>\n",
       "      <td>0.090909</td>\n",
       "      <td>2.709642</td>\n",
       "      <td>0.064103</td>\n",
       "      <td>0.595657</td>\n",
       "      <td>27.101166</td>\n",
       "      <td>0.0</td>\n",
       "      <td>...</td>\n",
       "      <td>3.935216</td>\n",
       "      <td>0.2</td>\n",
       "      <td>0.044886</td>\n",
       "      <td>0.014925</td>\n",
       "      <td>0.134692</td>\n",
       "      <td>0.056338</td>\n",
       "      <td>3.826199</td>\n",
       "      <td>0.020408</td>\n",
       "      <td>1.918256</td>\n",
       "      <td>0.123668</td>\n",
       "    </tr>\n",
       "    <tr>\n",
       "      <th>2021-08-01</th>\n",
       "      <td>0.117377</td>\n",
       "      <td>0.0</td>\n",
       "      <td>0.594219</td>\n",
       "      <td>0.01199</td>\n",
       "      <td>0.090909</td>\n",
       "      <td>2.709642</td>\n",
       "      <td>0.064103</td>\n",
       "      <td>0.595657</td>\n",
       "      <td>27.101166</td>\n",
       "      <td>0.0</td>\n",
       "      <td>...</td>\n",
       "      <td>3.935216</td>\n",
       "      <td>0.2</td>\n",
       "      <td>0.044886</td>\n",
       "      <td>0.014925</td>\n",
       "      <td>0.134692</td>\n",
       "      <td>0.056338</td>\n",
       "      <td>3.826199</td>\n",
       "      <td>0.020408</td>\n",
       "      <td>1.918256</td>\n",
       "      <td>0.123668</td>\n",
       "    </tr>\n",
       "    <tr>\n",
       "      <th>2021-09-01</th>\n",
       "      <td>0.117377</td>\n",
       "      <td>0.0</td>\n",
       "      <td>0.594219</td>\n",
       "      <td>0.01199</td>\n",
       "      <td>0.090909</td>\n",
       "      <td>2.709642</td>\n",
       "      <td>0.064103</td>\n",
       "      <td>0.595657</td>\n",
       "      <td>27.101166</td>\n",
       "      <td>0.0</td>\n",
       "      <td>...</td>\n",
       "      <td>3.935216</td>\n",
       "      <td>0.2</td>\n",
       "      <td>0.044886</td>\n",
       "      <td>0.014925</td>\n",
       "      <td>0.134692</td>\n",
       "      <td>0.056338</td>\n",
       "      <td>3.826199</td>\n",
       "      <td>0.020408</td>\n",
       "      <td>1.918256</td>\n",
       "      <td>0.123668</td>\n",
       "    </tr>\n",
       "    <tr>\n",
       "      <th>2021-10-01</th>\n",
       "      <td>0.117377</td>\n",
       "      <td>0.0</td>\n",
       "      <td>0.594219</td>\n",
       "      <td>0.01199</td>\n",
       "      <td>0.090909</td>\n",
       "      <td>2.709642</td>\n",
       "      <td>0.064103</td>\n",
       "      <td>0.595657</td>\n",
       "      <td>27.101166</td>\n",
       "      <td>0.0</td>\n",
       "      <td>...</td>\n",
       "      <td>3.935216</td>\n",
       "      <td>0.2</td>\n",
       "      <td>0.044886</td>\n",
       "      <td>0.014925</td>\n",
       "      <td>0.134692</td>\n",
       "      <td>0.056338</td>\n",
       "      <td>3.826199</td>\n",
       "      <td>0.020408</td>\n",
       "      <td>1.918256</td>\n",
       "      <td>0.123668</td>\n",
       "    </tr>\n",
       "    <tr>\n",
       "      <th>2021-11-01</th>\n",
       "      <td>0.117377</td>\n",
       "      <td>0.0</td>\n",
       "      <td>0.594219</td>\n",
       "      <td>0.01199</td>\n",
       "      <td>0.090909</td>\n",
       "      <td>2.709642</td>\n",
       "      <td>0.064103</td>\n",
       "      <td>0.595657</td>\n",
       "      <td>27.101166</td>\n",
       "      <td>0.0</td>\n",
       "      <td>...</td>\n",
       "      <td>3.935216</td>\n",
       "      <td>0.2</td>\n",
       "      <td>0.044886</td>\n",
       "      <td>0.014925</td>\n",
       "      <td>0.134692</td>\n",
       "      <td>0.056338</td>\n",
       "      <td>3.826199</td>\n",
       "      <td>0.020408</td>\n",
       "      <td>1.918256</td>\n",
       "      <td>0.123668</td>\n",
       "    </tr>\n",
       "    <tr>\n",
       "      <th>2021-12-01</th>\n",
       "      <td>0.117377</td>\n",
       "      <td>0.0</td>\n",
       "      <td>0.594219</td>\n",
       "      <td>0.01199</td>\n",
       "      <td>0.090909</td>\n",
       "      <td>2.709642</td>\n",
       "      <td>0.064103</td>\n",
       "      <td>0.595657</td>\n",
       "      <td>27.101166</td>\n",
       "      <td>0.0</td>\n",
       "      <td>...</td>\n",
       "      <td>3.935216</td>\n",
       "      <td>0.2</td>\n",
       "      <td>0.044886</td>\n",
       "      <td>0.014925</td>\n",
       "      <td>0.134692</td>\n",
       "      <td>0.056338</td>\n",
       "      <td>3.826199</td>\n",
       "      <td>0.020408</td>\n",
       "      <td>1.918256</td>\n",
       "      <td>0.123668</td>\n",
       "    </tr>\n",
       "  </tbody>\n",
       "</table>\n",
       "<p>12 rows × 150810 columns</p>\n",
       "</div>"
      ],
      "text/plain": [
       "unique_id     0       1         2        3         4         5         6       \\\n",
       "ds                                                                              \n",
       "2021-01-01  0.117377     0.0  0.594219  0.01199  0.090909  2.709642  0.064103   \n",
       "2021-02-01  0.117377     0.0  0.594219  0.01199  0.090909  2.709642  0.064103   \n",
       "2021-03-01  0.117377     0.0  0.594219  0.01199  0.090909  2.709642  0.064103   \n",
       "2021-04-01  0.117377     0.0  0.594219  0.01199  0.090909  2.709642  0.064103   \n",
       "2021-05-01  0.117377     0.0  0.594219  0.01199  0.090909  2.709642  0.064103   \n",
       "2021-06-01  0.117377     0.0  0.594219  0.01199  0.090909  2.709642  0.064103   \n",
       "2021-07-01  0.117377     0.0  0.594219  0.01199  0.090909  2.709642  0.064103   \n",
       "2021-08-01  0.117377     0.0  0.594219  0.01199  0.090909  2.709642  0.064103   \n",
       "2021-09-01  0.117377     0.0  0.594219  0.01199  0.090909  2.709642  0.064103   \n",
       "2021-10-01  0.117377     0.0  0.594219  0.01199  0.090909  2.709642  0.064103   \n",
       "2021-11-01  0.117377     0.0  0.594219  0.01199  0.090909  2.709642  0.064103   \n",
       "2021-12-01  0.117377     0.0  0.594219  0.01199  0.090909  2.709642  0.064103   \n",
       "\n",
       "unique_id     7          8       9       ...    150800  150801    150802  \\\n",
       "ds                                       ...                               \n",
       "2021-01-01  0.595657  27.101166     0.0  ...  3.935216     0.2  0.044886   \n",
       "2021-02-01  0.595657  27.101166     0.0  ...  3.935216     0.2  0.044886   \n",
       "2021-03-01  0.595657  27.101166     0.0  ...  3.935216     0.2  0.044886   \n",
       "2021-04-01  0.595657  27.101166     0.0  ...  3.935216     0.2  0.044886   \n",
       "2021-05-01  0.595657  27.101166     0.0  ...  3.935216     0.2  0.044886   \n",
       "2021-06-01  0.595657  27.101166     0.0  ...  3.935216     0.2  0.044886   \n",
       "2021-07-01  0.595657  27.101166     0.0  ...  3.935216     0.2  0.044886   \n",
       "2021-08-01  0.595657  27.101166     0.0  ...  3.935216     0.2  0.044886   \n",
       "2021-09-01  0.595657  27.101166     0.0  ...  3.935216     0.2  0.044886   \n",
       "2021-10-01  0.595657  27.101166     0.0  ...  3.935216     0.2  0.044886   \n",
       "2021-11-01  0.595657  27.101166     0.0  ...  3.935216     0.2  0.044886   \n",
       "2021-12-01  0.595657  27.101166     0.0  ...  3.935216     0.2  0.044886   \n",
       "\n",
       "unique_id     150803    150804    150805    150806    150807    150808  \\\n",
       "ds                                                                       \n",
       "2021-01-01  0.014925  0.134692  0.056338  3.826199  0.020408  1.918256   \n",
       "2021-02-01  0.014925  0.134692  0.056338  3.826199  0.020408  1.918256   \n",
       "2021-03-01  0.014925  0.134692  0.056338  3.826199  0.020408  1.918256   \n",
       "2021-04-01  0.014925  0.134692  0.056338  3.826199  0.020408  1.918256   \n",
       "2021-05-01  0.014925  0.134692  0.056338  3.826199  0.020408  1.918256   \n",
       "2021-06-01  0.014925  0.134692  0.056338  3.826199  0.020408  1.918256   \n",
       "2021-07-01  0.014925  0.134692  0.056338  3.826199  0.020408  1.918256   \n",
       "2021-08-01  0.014925  0.134692  0.056338  3.826199  0.020408  1.918256   \n",
       "2021-09-01  0.014925  0.134692  0.056338  3.826199  0.020408  1.918256   \n",
       "2021-10-01  0.014925  0.134692  0.056338  3.826199  0.020408  1.918256   \n",
       "2021-11-01  0.014925  0.134692  0.056338  3.826199  0.020408  1.918256   \n",
       "2021-12-01  0.014925  0.134692  0.056338  3.826199  0.020408  1.918256   \n",
       "\n",
       "unique_id     150809  \n",
       "ds                    \n",
       "2021-01-01  0.123668  \n",
       "2021-02-01  0.123668  \n",
       "2021-03-01  0.123668  \n",
       "2021-04-01  0.123668  \n",
       "2021-05-01  0.123668  \n",
       "2021-06-01  0.123668  \n",
       "2021-07-01  0.123668  \n",
       "2021-08-01  0.123668  \n",
       "2021-09-01  0.123668  \n",
       "2021-10-01  0.123668  \n",
       "2021-11-01  0.123668  \n",
       "2021-12-01  0.123668  \n",
       "\n",
       "[12 rows x 150810 columns]"
      ]
     },
     "execution_count": 53,
     "metadata": {},
     "output_type": "execute_result"
    }
   ],
   "source": [
    "Classic = Classic_raw.pivot(index = 'ds',columns='unique_id',values='CrostonClassic')\n",
    "Classic"
   ]
  },
  {
   "cell_type": "code",
   "execution_count": 59,
   "id": "607a181e",
   "metadata": {
    "ExecuteTime": {
     "end_time": "2024-02-21T03:59:34.036228Z",
     "start_time": "2024-02-21T03:59:33.894614Z"
    }
   },
   "outputs": [
    {
     "data": {
      "text/html": [
       "<div>\n",
       "<style scoped>\n",
       "    .dataframe tbody tr th:only-of-type {\n",
       "        vertical-align: middle;\n",
       "    }\n",
       "\n",
       "    .dataframe tbody tr th {\n",
       "        vertical-align: top;\n",
       "    }\n",
       "\n",
       "    .dataframe thead th {\n",
       "        text-align: right;\n",
       "    }\n",
       "</style>\n",
       "<table border=\"1\" class=\"dataframe\">\n",
       "  <thead>\n",
       "    <tr style=\"text-align: right;\">\n",
       "      <th></th>\n",
       "      <th>0</th>\n",
       "      <th>1</th>\n",
       "      <th>2</th>\n",
       "      <th>3</th>\n",
       "      <th>4</th>\n",
       "      <th>5</th>\n",
       "      <th>6</th>\n",
       "      <th>7</th>\n",
       "      <th>8</th>\n",
       "      <th>9</th>\n",
       "      <th>...</th>\n",
       "      <th>150800</th>\n",
       "      <th>150801</th>\n",
       "      <th>150802</th>\n",
       "      <th>150803</th>\n",
       "      <th>150804</th>\n",
       "      <th>150805</th>\n",
       "      <th>150806</th>\n",
       "      <th>150807</th>\n",
       "      <th>150808</th>\n",
       "      <th>150809</th>\n",
       "    </tr>\n",
       "    <tr>\n",
       "      <th>Unnamed: 0</th>\n",
       "      <th></th>\n",
       "      <th></th>\n",
       "      <th></th>\n",
       "      <th></th>\n",
       "      <th></th>\n",
       "      <th></th>\n",
       "      <th></th>\n",
       "      <th></th>\n",
       "      <th></th>\n",
       "      <th></th>\n",
       "      <th></th>\n",
       "      <th></th>\n",
       "      <th></th>\n",
       "      <th></th>\n",
       "      <th></th>\n",
       "      <th></th>\n",
       "      <th></th>\n",
       "      <th></th>\n",
       "      <th></th>\n",
       "      <th></th>\n",
       "      <th></th>\n",
       "    </tr>\n",
       "  </thead>\n",
       "  <tbody>\n",
       "    <tr>\n",
       "      <th>2021-01-01</th>\n",
       "      <td>0.00196</td>\n",
       "      <td>0.001568</td>\n",
       "      <td>0.001254</td>\n",
       "      <td>0.001004</td>\n",
       "      <td>0.000803</td>\n",
       "      <td>0.000642</td>\n",
       "      <td>0.000514</td>\n",
       "      <td>0.000411</td>\n",
       "      <td>0.000329</td>\n",
       "      <td>0.000263</td>\n",
       "      <td>...</td>\n",
       "      <td>1.978969</td>\n",
       "      <td>1.583175</td>\n",
       "      <td>1.667183</td>\n",
       "      <td>1.734158</td>\n",
       "      <td>1.387326</td>\n",
       "      <td>1.660782</td>\n",
       "      <td>1.736952</td>\n",
       "      <td>1.62668</td>\n",
       "      <td>1.301344</td>\n",
       "      <td>0</td>\n",
       "    </tr>\n",
       "    <tr>\n",
       "      <th>2021-02-01</th>\n",
       "      <td>0.00196</td>\n",
       "      <td>0.001568</td>\n",
       "      <td>0.001254</td>\n",
       "      <td>0.001004</td>\n",
       "      <td>0.000803</td>\n",
       "      <td>0.000642</td>\n",
       "      <td>0.000514</td>\n",
       "      <td>0.000411</td>\n",
       "      <td>0.000329</td>\n",
       "      <td>0.000263</td>\n",
       "      <td>...</td>\n",
       "      <td>1.978969</td>\n",
       "      <td>1.583175</td>\n",
       "      <td>1.667183</td>\n",
       "      <td>1.734158</td>\n",
       "      <td>1.387326</td>\n",
       "      <td>1.660782</td>\n",
       "      <td>1.736952</td>\n",
       "      <td>1.62668</td>\n",
       "      <td>1.301344</td>\n",
       "      <td>0</td>\n",
       "    </tr>\n",
       "    <tr>\n",
       "      <th>2021-03-01</th>\n",
       "      <td>0.00196</td>\n",
       "      <td>0.001568</td>\n",
       "      <td>0.001254</td>\n",
       "      <td>0.001004</td>\n",
       "      <td>0.000803</td>\n",
       "      <td>0.000642</td>\n",
       "      <td>0.000514</td>\n",
       "      <td>0.000411</td>\n",
       "      <td>0.000329</td>\n",
       "      <td>0.000263</td>\n",
       "      <td>...</td>\n",
       "      <td>1.978969</td>\n",
       "      <td>1.583175</td>\n",
       "      <td>1.667183</td>\n",
       "      <td>1.734158</td>\n",
       "      <td>1.387326</td>\n",
       "      <td>1.660782</td>\n",
       "      <td>1.736952</td>\n",
       "      <td>1.62668</td>\n",
       "      <td>1.301344</td>\n",
       "      <td>0</td>\n",
       "    </tr>\n",
       "    <tr>\n",
       "      <th>2021-04-01</th>\n",
       "      <td>0.00196</td>\n",
       "      <td>0.001568</td>\n",
       "      <td>0.001254</td>\n",
       "      <td>0.001004</td>\n",
       "      <td>0.000803</td>\n",
       "      <td>0.000642</td>\n",
       "      <td>0.000514</td>\n",
       "      <td>0.000411</td>\n",
       "      <td>0.000329</td>\n",
       "      <td>0.000263</td>\n",
       "      <td>...</td>\n",
       "      <td>1.978969</td>\n",
       "      <td>1.583175</td>\n",
       "      <td>1.667183</td>\n",
       "      <td>1.734158</td>\n",
       "      <td>1.387326</td>\n",
       "      <td>1.660782</td>\n",
       "      <td>1.736952</td>\n",
       "      <td>1.62668</td>\n",
       "      <td>1.301344</td>\n",
       "      <td>0</td>\n",
       "    </tr>\n",
       "    <tr>\n",
       "      <th>2021-05-01</th>\n",
       "      <td>0.00196</td>\n",
       "      <td>0.001568</td>\n",
       "      <td>0.001254</td>\n",
       "      <td>0.001004</td>\n",
       "      <td>0.000803</td>\n",
       "      <td>0.000642</td>\n",
       "      <td>0.000514</td>\n",
       "      <td>0.000411</td>\n",
       "      <td>0.000329</td>\n",
       "      <td>0.000263</td>\n",
       "      <td>...</td>\n",
       "      <td>1.978969</td>\n",
       "      <td>1.583175</td>\n",
       "      <td>1.667183</td>\n",
       "      <td>1.734158</td>\n",
       "      <td>1.387326</td>\n",
       "      <td>1.660782</td>\n",
       "      <td>1.736952</td>\n",
       "      <td>1.62668</td>\n",
       "      <td>1.301344</td>\n",
       "      <td>0</td>\n",
       "    </tr>\n",
       "    <tr>\n",
       "      <th>2021-06-01</th>\n",
       "      <td>0.00196</td>\n",
       "      <td>0.001568</td>\n",
       "      <td>0.001254</td>\n",
       "      <td>0.001004</td>\n",
       "      <td>0.000803</td>\n",
       "      <td>0.000642</td>\n",
       "      <td>0.000514</td>\n",
       "      <td>0.000411</td>\n",
       "      <td>0.000329</td>\n",
       "      <td>0.000263</td>\n",
       "      <td>...</td>\n",
       "      <td>1.978969</td>\n",
       "      <td>1.583175</td>\n",
       "      <td>1.667183</td>\n",
       "      <td>1.734158</td>\n",
       "      <td>1.387326</td>\n",
       "      <td>1.660782</td>\n",
       "      <td>1.736952</td>\n",
       "      <td>1.62668</td>\n",
       "      <td>1.301344</td>\n",
       "      <td>0</td>\n",
       "    </tr>\n",
       "    <tr>\n",
       "      <th>2021-07-01</th>\n",
       "      <td>0.00196</td>\n",
       "      <td>0.001568</td>\n",
       "      <td>0.001254</td>\n",
       "      <td>0.001004</td>\n",
       "      <td>0.000803</td>\n",
       "      <td>0.000642</td>\n",
       "      <td>0.000514</td>\n",
       "      <td>0.000411</td>\n",
       "      <td>0.000329</td>\n",
       "      <td>0.000263</td>\n",
       "      <td>...</td>\n",
       "      <td>1.978969</td>\n",
       "      <td>1.583175</td>\n",
       "      <td>1.667183</td>\n",
       "      <td>1.734158</td>\n",
       "      <td>1.387326</td>\n",
       "      <td>1.660782</td>\n",
       "      <td>1.736952</td>\n",
       "      <td>1.62668</td>\n",
       "      <td>1.301344</td>\n",
       "      <td>0</td>\n",
       "    </tr>\n",
       "    <tr>\n",
       "      <th>2021-08-01</th>\n",
       "      <td>0.00196</td>\n",
       "      <td>0.001568</td>\n",
       "      <td>0.001254</td>\n",
       "      <td>0.001004</td>\n",
       "      <td>0.000803</td>\n",
       "      <td>0.000642</td>\n",
       "      <td>0.000514</td>\n",
       "      <td>0.000411</td>\n",
       "      <td>0.000329</td>\n",
       "      <td>0.000263</td>\n",
       "      <td>...</td>\n",
       "      <td>1.978969</td>\n",
       "      <td>1.583175</td>\n",
       "      <td>1.667183</td>\n",
       "      <td>1.734158</td>\n",
       "      <td>1.387326</td>\n",
       "      <td>1.660782</td>\n",
       "      <td>1.736952</td>\n",
       "      <td>1.62668</td>\n",
       "      <td>1.301344</td>\n",
       "      <td>0</td>\n",
       "    </tr>\n",
       "    <tr>\n",
       "      <th>2021-09-01</th>\n",
       "      <td>0.00196</td>\n",
       "      <td>0.001568</td>\n",
       "      <td>0.001254</td>\n",
       "      <td>0.001004</td>\n",
       "      <td>0.000803</td>\n",
       "      <td>0.000642</td>\n",
       "      <td>0.000514</td>\n",
       "      <td>0.000411</td>\n",
       "      <td>0.000329</td>\n",
       "      <td>0.000263</td>\n",
       "      <td>...</td>\n",
       "      <td>1.978969</td>\n",
       "      <td>1.583175</td>\n",
       "      <td>1.667183</td>\n",
       "      <td>1.734158</td>\n",
       "      <td>1.387326</td>\n",
       "      <td>1.660782</td>\n",
       "      <td>1.736952</td>\n",
       "      <td>1.62668</td>\n",
       "      <td>1.301344</td>\n",
       "      <td>0</td>\n",
       "    </tr>\n",
       "    <tr>\n",
       "      <th>2021-10-01</th>\n",
       "      <td>0.00196</td>\n",
       "      <td>0.001568</td>\n",
       "      <td>0.001254</td>\n",
       "      <td>0.001004</td>\n",
       "      <td>0.000803</td>\n",
       "      <td>0.000642</td>\n",
       "      <td>0.000514</td>\n",
       "      <td>0.000411</td>\n",
       "      <td>0.000329</td>\n",
       "      <td>0.000263</td>\n",
       "      <td>...</td>\n",
       "      <td>1.978969</td>\n",
       "      <td>1.583175</td>\n",
       "      <td>1.667183</td>\n",
       "      <td>1.734158</td>\n",
       "      <td>1.387326</td>\n",
       "      <td>1.660782</td>\n",
       "      <td>1.736952</td>\n",
       "      <td>1.62668</td>\n",
       "      <td>1.301344</td>\n",
       "      <td>0</td>\n",
       "    </tr>\n",
       "    <tr>\n",
       "      <th>2021-11-01</th>\n",
       "      <td>0.00196</td>\n",
       "      <td>0.001568</td>\n",
       "      <td>0.001254</td>\n",
       "      <td>0.001004</td>\n",
       "      <td>0.000803</td>\n",
       "      <td>0.000642</td>\n",
       "      <td>0.000514</td>\n",
       "      <td>0.000411</td>\n",
       "      <td>0.000329</td>\n",
       "      <td>0.000263</td>\n",
       "      <td>...</td>\n",
       "      <td>1.978969</td>\n",
       "      <td>1.583175</td>\n",
       "      <td>1.667183</td>\n",
       "      <td>1.734158</td>\n",
       "      <td>1.387326</td>\n",
       "      <td>1.660782</td>\n",
       "      <td>1.736952</td>\n",
       "      <td>1.62668</td>\n",
       "      <td>1.301344</td>\n",
       "      <td>0</td>\n",
       "    </tr>\n",
       "    <tr>\n",
       "      <th>2021-12-01</th>\n",
       "      <td>0.00196</td>\n",
       "      <td>0.001568</td>\n",
       "      <td>0.001254</td>\n",
       "      <td>0.001004</td>\n",
       "      <td>0.000803</td>\n",
       "      <td>0.000642</td>\n",
       "      <td>0.000514</td>\n",
       "      <td>0.000411</td>\n",
       "      <td>0.000329</td>\n",
       "      <td>0.000263</td>\n",
       "      <td>...</td>\n",
       "      <td>1.978969</td>\n",
       "      <td>1.583175</td>\n",
       "      <td>1.667183</td>\n",
       "      <td>1.734158</td>\n",
       "      <td>1.387326</td>\n",
       "      <td>1.660782</td>\n",
       "      <td>1.736952</td>\n",
       "      <td>1.62668</td>\n",
       "      <td>1.301344</td>\n",
       "      <td>0</td>\n",
       "    </tr>\n",
       "  </tbody>\n",
       "</table>\n",
       "<p>12 rows × 150810 columns</p>\n",
       "</div>"
      ],
      "text/plain": [
       "                  0         1         2         3         4         5  \\\n",
       "Unnamed: 0                                                              \n",
       "2021-01-01  0.00196  0.001568  0.001254  0.001004  0.000803  0.000642   \n",
       "2021-02-01  0.00196  0.001568  0.001254  0.001004  0.000803  0.000642   \n",
       "2021-03-01  0.00196  0.001568  0.001254  0.001004  0.000803  0.000642   \n",
       "2021-04-01  0.00196  0.001568  0.001254  0.001004  0.000803  0.000642   \n",
       "2021-05-01  0.00196  0.001568  0.001254  0.001004  0.000803  0.000642   \n",
       "2021-06-01  0.00196  0.001568  0.001254  0.001004  0.000803  0.000642   \n",
       "2021-07-01  0.00196  0.001568  0.001254  0.001004  0.000803  0.000642   \n",
       "2021-08-01  0.00196  0.001568  0.001254  0.001004  0.000803  0.000642   \n",
       "2021-09-01  0.00196  0.001568  0.001254  0.001004  0.000803  0.000642   \n",
       "2021-10-01  0.00196  0.001568  0.001254  0.001004  0.000803  0.000642   \n",
       "2021-11-01  0.00196  0.001568  0.001254  0.001004  0.000803  0.000642   \n",
       "2021-12-01  0.00196  0.001568  0.001254  0.001004  0.000803  0.000642   \n",
       "\n",
       "                   6         7         8         9  ...    150800    150801  \\\n",
       "Unnamed: 0                                          ...                       \n",
       "2021-01-01  0.000514  0.000411  0.000329  0.000263  ...  1.978969  1.583175   \n",
       "2021-02-01  0.000514  0.000411  0.000329  0.000263  ...  1.978969  1.583175   \n",
       "2021-03-01  0.000514  0.000411  0.000329  0.000263  ...  1.978969  1.583175   \n",
       "2021-04-01  0.000514  0.000411  0.000329  0.000263  ...  1.978969  1.583175   \n",
       "2021-05-01  0.000514  0.000411  0.000329  0.000263  ...  1.978969  1.583175   \n",
       "2021-06-01  0.000514  0.000411  0.000329  0.000263  ...  1.978969  1.583175   \n",
       "2021-07-01  0.000514  0.000411  0.000329  0.000263  ...  1.978969  1.583175   \n",
       "2021-08-01  0.000514  0.000411  0.000329  0.000263  ...  1.978969  1.583175   \n",
       "2021-09-01  0.000514  0.000411  0.000329  0.000263  ...  1.978969  1.583175   \n",
       "2021-10-01  0.000514  0.000411  0.000329  0.000263  ...  1.978969  1.583175   \n",
       "2021-11-01  0.000514  0.000411  0.000329  0.000263  ...  1.978969  1.583175   \n",
       "2021-12-01  0.000514  0.000411  0.000329  0.000263  ...  1.978969  1.583175   \n",
       "\n",
       "              150802    150803    150804    150805    150806   150807  \\\n",
       "Unnamed: 0                                                              \n",
       "2021-01-01  1.667183  1.734158  1.387326  1.660782  1.736952  1.62668   \n",
       "2021-02-01  1.667183  1.734158  1.387326  1.660782  1.736952  1.62668   \n",
       "2021-03-01  1.667183  1.734158  1.387326  1.660782  1.736952  1.62668   \n",
       "2021-04-01  1.667183  1.734158  1.387326  1.660782  1.736952  1.62668   \n",
       "2021-05-01  1.667183  1.734158  1.387326  1.660782  1.736952  1.62668   \n",
       "2021-06-01  1.667183  1.734158  1.387326  1.660782  1.736952  1.62668   \n",
       "2021-07-01  1.667183  1.734158  1.387326  1.660782  1.736952  1.62668   \n",
       "2021-08-01  1.667183  1.734158  1.387326  1.660782  1.736952  1.62668   \n",
       "2021-09-01  1.667183  1.734158  1.387326  1.660782  1.736952  1.62668   \n",
       "2021-10-01  1.667183  1.734158  1.387326  1.660782  1.736952  1.62668   \n",
       "2021-11-01  1.667183  1.734158  1.387326  1.660782  1.736952  1.62668   \n",
       "2021-12-01  1.667183  1.734158  1.387326  1.660782  1.736952  1.62668   \n",
       "\n",
       "              150808  150809  \n",
       "Unnamed: 0                    \n",
       "2021-01-01  1.301344       0  \n",
       "2021-02-01  1.301344       0  \n",
       "2021-03-01  1.301344       0  \n",
       "2021-04-01  1.301344       0  \n",
       "2021-05-01  1.301344       0  \n",
       "2021-06-01  1.301344       0  \n",
       "2021-07-01  1.301344       0  \n",
       "2021-08-01  1.301344       0  \n",
       "2021-09-01  1.301344       0  \n",
       "2021-10-01  1.301344       0  \n",
       "2021-11-01  1.301344       0  \n",
       "2021-12-01  1.301344       0  \n",
       "\n",
       "[12 rows x 150810 columns]"
      ]
     },
     "execution_count": 59,
     "metadata": {},
     "output_type": "execute_result"
    }
   ],
   "source": [
    "TSB = TSB.set_index('Unnamed: 0')\n",
    "TSB"
   ]
  },
  {
   "cell_type": "markdown",
   "id": "42172a63",
   "metadata": {},
   "source": [
    "**VALIDATION VALUE**"
   ]
  },
  {
   "cell_type": "code",
   "execution_count": 61,
   "id": "4ad945c5",
   "metadata": {
    "ExecuteTime": {
     "end_time": "2024-02-21T04:05:33.323376Z",
     "start_time": "2024-02-21T04:05:33.304134Z"
    }
   },
   "outputs": [
    {
     "data": {
      "text/html": [
       "<div>\n",
       "<style scoped>\n",
       "    .dataframe tbody tr th:only-of-type {\n",
       "        vertical-align: middle;\n",
       "    }\n",
       "\n",
       "    .dataframe tbody tr th {\n",
       "        vertical-align: top;\n",
       "    }\n",
       "\n",
       "    .dataframe thead th {\n",
       "        text-align: right;\n",
       "    }\n",
       "</style>\n",
       "<table border=\"1\" class=\"dataframe\">\n",
       "  <thead>\n",
       "    <tr style=\"text-align: right;\">\n",
       "      <th></th>\n",
       "      <th>0</th>\n",
       "      <th>1</th>\n",
       "      <th>2</th>\n",
       "      <th>3</th>\n",
       "      <th>4</th>\n",
       "      <th>5</th>\n",
       "      <th>6</th>\n",
       "      <th>7</th>\n",
       "      <th>8</th>\n",
       "      <th>9</th>\n",
       "      <th>...</th>\n",
       "      <th>150800</th>\n",
       "      <th>150801</th>\n",
       "      <th>150802</th>\n",
       "      <th>150803</th>\n",
       "      <th>150804</th>\n",
       "      <th>150805</th>\n",
       "      <th>150806</th>\n",
       "      <th>150807</th>\n",
       "      <th>150808</th>\n",
       "      <th>150809</th>\n",
       "    </tr>\n",
       "  </thead>\n",
       "  <tbody>\n",
       "    <tr>\n",
       "      <th>2021-01-01</th>\n",
       "      <td>0</td>\n",
       "      <td>0</td>\n",
       "      <td>0</td>\n",
       "      <td>0</td>\n",
       "      <td>0</td>\n",
       "      <td>30</td>\n",
       "      <td>0</td>\n",
       "      <td>0</td>\n",
       "      <td>0</td>\n",
       "      <td>0</td>\n",
       "      <td>...</td>\n",
       "      <td>0</td>\n",
       "      <td>0</td>\n",
       "      <td>0</td>\n",
       "      <td>0</td>\n",
       "      <td>0</td>\n",
       "      <td>0</td>\n",
       "      <td>2</td>\n",
       "      <td>0</td>\n",
       "      <td>2</td>\n",
       "      <td>0</td>\n",
       "    </tr>\n",
       "    <tr>\n",
       "      <th>2021-02-01</th>\n",
       "      <td>0</td>\n",
       "      <td>0</td>\n",
       "      <td>1</td>\n",
       "      <td>0</td>\n",
       "      <td>0</td>\n",
       "      <td>0</td>\n",
       "      <td>0</td>\n",
       "      <td>0</td>\n",
       "      <td>0</td>\n",
       "      <td>0</td>\n",
       "      <td>...</td>\n",
       "      <td>0</td>\n",
       "      <td>0</td>\n",
       "      <td>0</td>\n",
       "      <td>0</td>\n",
       "      <td>0</td>\n",
       "      <td>0</td>\n",
       "      <td>4</td>\n",
       "      <td>0</td>\n",
       "      <td>3</td>\n",
       "      <td>0</td>\n",
       "    </tr>\n",
       "    <tr>\n",
       "      <th>2021-03-01</th>\n",
       "      <td>0</td>\n",
       "      <td>0</td>\n",
       "      <td>0</td>\n",
       "      <td>0</td>\n",
       "      <td>0</td>\n",
       "      <td>60</td>\n",
       "      <td>0</td>\n",
       "      <td>0</td>\n",
       "      <td>0</td>\n",
       "      <td>0</td>\n",
       "      <td>...</td>\n",
       "      <td>0</td>\n",
       "      <td>0</td>\n",
       "      <td>0</td>\n",
       "      <td>0</td>\n",
       "      <td>0</td>\n",
       "      <td>0</td>\n",
       "      <td>4</td>\n",
       "      <td>0</td>\n",
       "      <td>0</td>\n",
       "      <td>0</td>\n",
       "    </tr>\n",
       "    <tr>\n",
       "      <th>2021-04-01</th>\n",
       "      <td>0</td>\n",
       "      <td>0</td>\n",
       "      <td>0</td>\n",
       "      <td>0</td>\n",
       "      <td>0</td>\n",
       "      <td>0</td>\n",
       "      <td>0</td>\n",
       "      <td>2</td>\n",
       "      <td>0</td>\n",
       "      <td>0</td>\n",
       "      <td>...</td>\n",
       "      <td>0</td>\n",
       "      <td>0</td>\n",
       "      <td>0</td>\n",
       "      <td>0</td>\n",
       "      <td>0</td>\n",
       "      <td>0</td>\n",
       "      <td>0</td>\n",
       "      <td>0</td>\n",
       "      <td>0</td>\n",
       "      <td>0</td>\n",
       "    </tr>\n",
       "    <tr>\n",
       "      <th>2021-05-01</th>\n",
       "      <td>0</td>\n",
       "      <td>0</td>\n",
       "      <td>0</td>\n",
       "      <td>0</td>\n",
       "      <td>0</td>\n",
       "      <td>0</td>\n",
       "      <td>0</td>\n",
       "      <td>0</td>\n",
       "      <td>0</td>\n",
       "      <td>0</td>\n",
       "      <td>...</td>\n",
       "      <td>0</td>\n",
       "      <td>0</td>\n",
       "      <td>0</td>\n",
       "      <td>0</td>\n",
       "      <td>0</td>\n",
       "      <td>0</td>\n",
       "      <td>0</td>\n",
       "      <td>0</td>\n",
       "      <td>0</td>\n",
       "      <td>0</td>\n",
       "    </tr>\n",
       "    <tr>\n",
       "      <th>2021-06-01</th>\n",
       "      <td>0</td>\n",
       "      <td>0</td>\n",
       "      <td>0</td>\n",
       "      <td>0</td>\n",
       "      <td>0</td>\n",
       "      <td>0</td>\n",
       "      <td>0</td>\n",
       "      <td>1</td>\n",
       "      <td>0</td>\n",
       "      <td>0</td>\n",
       "      <td>...</td>\n",
       "      <td>0</td>\n",
       "      <td>0</td>\n",
       "      <td>0</td>\n",
       "      <td>0</td>\n",
       "      <td>3</td>\n",
       "      <td>0</td>\n",
       "      <td>0</td>\n",
       "      <td>0</td>\n",
       "      <td>0</td>\n",
       "      <td>0</td>\n",
       "    </tr>\n",
       "    <tr>\n",
       "      <th>2021-07-01</th>\n",
       "      <td>0</td>\n",
       "      <td>0</td>\n",
       "      <td>0</td>\n",
       "      <td>0</td>\n",
       "      <td>0</td>\n",
       "      <td>0</td>\n",
       "      <td>0</td>\n",
       "      <td>0</td>\n",
       "      <td>0</td>\n",
       "      <td>0</td>\n",
       "      <td>...</td>\n",
       "      <td>0</td>\n",
       "      <td>0</td>\n",
       "      <td>0</td>\n",
       "      <td>0</td>\n",
       "      <td>-2</td>\n",
       "      <td>0</td>\n",
       "      <td>4</td>\n",
       "      <td>0</td>\n",
       "      <td>2</td>\n",
       "      <td>0</td>\n",
       "    </tr>\n",
       "    <tr>\n",
       "      <th>2021-08-01</th>\n",
       "      <td>0</td>\n",
       "      <td>0</td>\n",
       "      <td>0</td>\n",
       "      <td>0</td>\n",
       "      <td>0</td>\n",
       "      <td>60</td>\n",
       "      <td>0</td>\n",
       "      <td>0</td>\n",
       "      <td>0</td>\n",
       "      <td>0</td>\n",
       "      <td>...</td>\n",
       "      <td>0</td>\n",
       "      <td>0</td>\n",
       "      <td>0</td>\n",
       "      <td>0</td>\n",
       "      <td>0</td>\n",
       "      <td>0</td>\n",
       "      <td>2</td>\n",
       "      <td>0</td>\n",
       "      <td>27</td>\n",
       "      <td>0</td>\n",
       "    </tr>\n",
       "    <tr>\n",
       "      <th>2021-09-01</th>\n",
       "      <td>0</td>\n",
       "      <td>0</td>\n",
       "      <td>1</td>\n",
       "      <td>0</td>\n",
       "      <td>0</td>\n",
       "      <td>0</td>\n",
       "      <td>0</td>\n",
       "      <td>0</td>\n",
       "      <td>0</td>\n",
       "      <td>0</td>\n",
       "      <td>...</td>\n",
       "      <td>0</td>\n",
       "      <td>0</td>\n",
       "      <td>0</td>\n",
       "      <td>0</td>\n",
       "      <td>0</td>\n",
       "      <td>0</td>\n",
       "      <td>4</td>\n",
       "      <td>0</td>\n",
       "      <td>0</td>\n",
       "      <td>0</td>\n",
       "    </tr>\n",
       "    <tr>\n",
       "      <th>2021-10-01</th>\n",
       "      <td>0</td>\n",
       "      <td>0</td>\n",
       "      <td>0</td>\n",
       "      <td>0</td>\n",
       "      <td>0</td>\n",
       "      <td>0</td>\n",
       "      <td>0</td>\n",
       "      <td>0</td>\n",
       "      <td>1</td>\n",
       "      <td>0</td>\n",
       "      <td>...</td>\n",
       "      <td>0</td>\n",
       "      <td>0</td>\n",
       "      <td>0</td>\n",
       "      <td>0</td>\n",
       "      <td>0</td>\n",
       "      <td>0</td>\n",
       "      <td>4</td>\n",
       "      <td>0</td>\n",
       "      <td>9</td>\n",
       "      <td>0</td>\n",
       "    </tr>\n",
       "    <tr>\n",
       "      <th>2021-11-01</th>\n",
       "      <td>0</td>\n",
       "      <td>0</td>\n",
       "      <td>0</td>\n",
       "      <td>0</td>\n",
       "      <td>0</td>\n",
       "      <td>26</td>\n",
       "      <td>0</td>\n",
       "      <td>2</td>\n",
       "      <td>96</td>\n",
       "      <td>0</td>\n",
       "      <td>...</td>\n",
       "      <td>0</td>\n",
       "      <td>0</td>\n",
       "      <td>0</td>\n",
       "      <td>0</td>\n",
       "      <td>0</td>\n",
       "      <td>0</td>\n",
       "      <td>0</td>\n",
       "      <td>0</td>\n",
       "      <td>9</td>\n",
       "      <td>0</td>\n",
       "    </tr>\n",
       "    <tr>\n",
       "      <th>2021-12-01</th>\n",
       "      <td>0</td>\n",
       "      <td>0</td>\n",
       "      <td>0</td>\n",
       "      <td>0</td>\n",
       "      <td>0</td>\n",
       "      <td>0</td>\n",
       "      <td>0</td>\n",
       "      <td>0</td>\n",
       "      <td>0</td>\n",
       "      <td>0</td>\n",
       "      <td>...</td>\n",
       "      <td>4</td>\n",
       "      <td>0</td>\n",
       "      <td>0</td>\n",
       "      <td>0</td>\n",
       "      <td>0</td>\n",
       "      <td>0</td>\n",
       "      <td>4</td>\n",
       "      <td>0</td>\n",
       "      <td>6</td>\n",
       "      <td>0</td>\n",
       "    </tr>\n",
       "  </tbody>\n",
       "</table>\n",
       "<p>12 rows × 150810 columns</p>\n",
       "</div>"
      ],
      "text/plain": [
       "            0       1       2       3       4       5       6       7       \\\n",
       "2021-01-01       0       0       0       0       0      30       0       0   \n",
       "2021-02-01       0       0       1       0       0       0       0       0   \n",
       "2021-03-01       0       0       0       0       0      60       0       0   \n",
       "2021-04-01       0       0       0       0       0       0       0       2   \n",
       "2021-05-01       0       0       0       0       0       0       0       0   \n",
       "2021-06-01       0       0       0       0       0       0       0       1   \n",
       "2021-07-01       0       0       0       0       0       0       0       0   \n",
       "2021-08-01       0       0       0       0       0      60       0       0   \n",
       "2021-09-01       0       0       1       0       0       0       0       0   \n",
       "2021-10-01       0       0       0       0       0       0       0       0   \n",
       "2021-11-01       0       0       0       0       0      26       0       2   \n",
       "2021-12-01       0       0       0       0       0       0       0       0   \n",
       "\n",
       "            8       9       ...  150800  150801  150802  150803  150804  \\\n",
       "2021-01-01       0       0  ...       0       0       0       0       0   \n",
       "2021-02-01       0       0  ...       0       0       0       0       0   \n",
       "2021-03-01       0       0  ...       0       0       0       0       0   \n",
       "2021-04-01       0       0  ...       0       0       0       0       0   \n",
       "2021-05-01       0       0  ...       0       0       0       0       0   \n",
       "2021-06-01       0       0  ...       0       0       0       0       3   \n",
       "2021-07-01       0       0  ...       0       0       0       0      -2   \n",
       "2021-08-01       0       0  ...       0       0       0       0       0   \n",
       "2021-09-01       0       0  ...       0       0       0       0       0   \n",
       "2021-10-01       1       0  ...       0       0       0       0       0   \n",
       "2021-11-01      96       0  ...       0       0       0       0       0   \n",
       "2021-12-01       0       0  ...       4       0       0       0       0   \n",
       "\n",
       "            150805  150806  150807  150808  150809  \n",
       "2021-01-01       0       2       0       2       0  \n",
       "2021-02-01       0       4       0       3       0  \n",
       "2021-03-01       0       4       0       0       0  \n",
       "2021-04-01       0       0       0       0       0  \n",
       "2021-05-01       0       0       0       0       0  \n",
       "2021-06-01       0       0       0       0       0  \n",
       "2021-07-01       0       4       0       2       0  \n",
       "2021-08-01       0       2       0      27       0  \n",
       "2021-09-01       0       4       0       0       0  \n",
       "2021-10-01       0       4       0       9       0  \n",
       "2021-11-01       0       0       0       9       0  \n",
       "2021-12-01       0       4       0       6       0  \n",
       "\n",
       "[12 rows x 150810 columns]"
      ]
     },
     "execution_count": 61,
     "metadata": {},
     "output_type": "execute_result"
    }
   ],
   "source": [
    "val"
   ]
  },
  {
   "cell_type": "code",
   "execution_count": 97,
   "id": "0477efa6",
   "metadata": {
    "ExecuteTime": {
     "end_time": "2024-02-22T02:55:05.551828Z",
     "start_time": "2024-02-22T02:54:50.933266Z"
    }
   },
   "outputs": [],
   "source": [
    "val_non_negative = val.applymap(lambda x: 0 if x < 0 else x)"
   ]
  },
  {
   "cell_type": "markdown",
   "id": "fa5febae",
   "metadata": {},
   "source": [
    "## Compare"
   ]
  },
  {
   "cell_type": "code",
   "execution_count": 128,
   "id": "26b62eda",
   "metadata": {
    "ExecuteTime": {
     "end_time": "2024-02-22T03:18:41.776604Z",
     "start_time": "2024-02-22T03:18:41.763790Z"
    }
   },
   "outputs": [
    {
     "data": {
      "text/html": [
       "<div>\n",
       "<style scoped>\n",
       "    .dataframe tbody tr th:only-of-type {\n",
       "        vertical-align: middle;\n",
       "    }\n",
       "\n",
       "    .dataframe tbody tr th {\n",
       "        vertical-align: top;\n",
       "    }\n",
       "\n",
       "    .dataframe thead th {\n",
       "        text-align: right;\n",
       "    }\n",
       "</style>\n",
       "<table border=\"1\" class=\"dataframe\">\n",
       "  <thead>\n",
       "    <tr style=\"text-align: right;\">\n",
       "      <th></th>\n",
       "      <th>Full-zeroes</th>\n",
       "      <th>Classic</th>\n",
       "      <th>TSB</th>\n",
       "    </tr>\n",
       "  </thead>\n",
       "  <tbody>\n",
       "    <tr>\n",
       "      <th>0</th>\n",
       "      <td>True</td>\n",
       "      <td>0</td>\n",
       "      <td>0</td>\n",
       "    </tr>\n",
       "    <tr>\n",
       "      <th>1</th>\n",
       "      <td>True</td>\n",
       "      <td>0</td>\n",
       "      <td>0</td>\n",
       "    </tr>\n",
       "    <tr>\n",
       "      <th>2</th>\n",
       "      <td>True</td>\n",
       "      <td>0</td>\n",
       "      <td>0</td>\n",
       "    </tr>\n",
       "    <tr>\n",
       "      <th>3</th>\n",
       "      <td>True</td>\n",
       "      <td>0</td>\n",
       "      <td>0</td>\n",
       "    </tr>\n",
       "    <tr>\n",
       "      <th>4</th>\n",
       "      <td>True</td>\n",
       "      <td>0</td>\n",
       "      <td>0</td>\n",
       "    </tr>\n",
       "    <tr>\n",
       "      <th>...</th>\n",
       "      <td>...</td>\n",
       "      <td>...</td>\n",
       "      <td>...</td>\n",
       "    </tr>\n",
       "    <tr>\n",
       "      <th>150805</th>\n",
       "      <td>True</td>\n",
       "      <td>0</td>\n",
       "      <td>0</td>\n",
       "    </tr>\n",
       "    <tr>\n",
       "      <th>150806</th>\n",
       "      <td>True</td>\n",
       "      <td>0</td>\n",
       "      <td>0</td>\n",
       "    </tr>\n",
       "    <tr>\n",
       "      <th>150807</th>\n",
       "      <td>True</td>\n",
       "      <td>0</td>\n",
       "      <td>0</td>\n",
       "    </tr>\n",
       "    <tr>\n",
       "      <th>150808</th>\n",
       "      <td>True</td>\n",
       "      <td>0</td>\n",
       "      <td>0</td>\n",
       "    </tr>\n",
       "    <tr>\n",
       "      <th>150809</th>\n",
       "      <td>True</td>\n",
       "      <td>0</td>\n",
       "      <td>0</td>\n",
       "    </tr>\n",
       "  </tbody>\n",
       "</table>\n",
       "<p>150810 rows × 3 columns</p>\n",
       "</div>"
      ],
      "text/plain": [
       "        Full-zeroes  Classic  TSB\n",
       "0              True        0    0\n",
       "1              True        0    0\n",
       "2              True        0    0\n",
       "3              True        0    0\n",
       "4              True        0    0\n",
       "...             ...      ...  ...\n",
       "150805         True        0    0\n",
       "150806         True        0    0\n",
       "150807         True        0    0\n",
       "150808         True        0    0\n",
       "150809         True        0    0\n",
       "\n",
       "[150810 rows x 3 columns]"
      ]
     },
     "execution_count": 128,
     "metadata": {},
     "output_type": "execute_result"
    }
   ],
   "source": [
    "# Create table\n",
    "\n",
    "MEP_df = pd.DataFrame(index=val.columns)\n",
    "MEP_df['Full-zeroes'] = True\n",
    "MEP_df['Classic'] = 0\n",
    "MEP_df['TSB'] = 0\n",
    "MEP_df"
   ]
  },
  {
   "cell_type": "code",
   "execution_count": 131,
   "id": "1e31e904",
   "metadata": {
    "ExecuteTime": {
     "end_time": "2024-02-22T03:23:23.905925Z",
     "start_time": "2024-02-22T03:21:54.547365Z"
    }
   },
   "outputs": [
    {
     "name": "stderr",
     "output_type": "stream",
     "text": [
      "100%|████████████████████████████████████████████████████████████████████████| 150809/150809 [01:29<00:00, 1688.05it/s]\n"
     ]
    }
   ],
   "source": [
    "for i in tqdm(range(150809),position=0,leave=True):\n",
    "    MEP_df.iloc[i,0] = MEP(Classic.iloc[:,i].values,val_non_negative.iloc[:,i].values)[1]\n",
    "    MEP_df.iloc[i,1] = MEP(Classic.iloc[:,i].values,val_non_negative.iloc[:,i].values)[0].round(2)\n",
    "    MEP_df.iloc[i,2] = MEP(TSB.iloc[:,i].values,val_non_negative.iloc[:,i].values)[0].round(2)\n"
   ]
  },
  {
   "cell_type": "code",
   "execution_count": 132,
   "id": "427df70e",
   "metadata": {
    "ExecuteTime": {
     "end_time": "2024-02-22T03:23:30.758535Z",
     "start_time": "2024-02-22T03:23:30.347961Z"
    }
   },
   "outputs": [],
   "source": [
    "MEP_df.to_csv('..\\exp\\MEP.txt')"
   ]
  },
  {
   "cell_type": "code",
   "execution_count": 14,
   "id": "82888e63",
   "metadata": {
    "ExecuteTime": {
     "end_time": "2024-02-22T08:11:26.568592Z",
     "start_time": "2024-02-22T08:11:26.500733Z"
    }
   },
   "outputs": [],
   "source": [
    "MEP_df = pd.read_csv('..\\exp\\MEP.txt')"
   ]
  },
  {
   "cell_type": "code",
   "execution_count": 15,
   "id": "27f387b2",
   "metadata": {
    "ExecuteTime": {
     "end_time": "2024-02-22T08:11:36.360673Z",
     "start_time": "2024-02-22T08:11:36.349772Z"
    }
   },
   "outputs": [
    {
     "data": {
      "text/html": [
       "<div>\n",
       "<style scoped>\n",
       "    .dataframe tbody tr th:only-of-type {\n",
       "        vertical-align: middle;\n",
       "    }\n",
       "\n",
       "    .dataframe tbody tr th {\n",
       "        vertical-align: top;\n",
       "    }\n",
       "\n",
       "    .dataframe thead th {\n",
       "        text-align: right;\n",
       "    }\n",
       "</style>\n",
       "<table border=\"1\" class=\"dataframe\">\n",
       "  <thead>\n",
       "    <tr style=\"text-align: right;\">\n",
       "      <th></th>\n",
       "      <th>Unnamed: 0</th>\n",
       "      <th>Full-zeroes</th>\n",
       "      <th>Classic</th>\n",
       "      <th>TSB</th>\n",
       "    </tr>\n",
       "  </thead>\n",
       "  <tbody>\n",
       "    <tr>\n",
       "      <th>0</th>\n",
       "      <td>0</td>\n",
       "      <td>True</td>\n",
       "      <td>88.26</td>\n",
       "      <td>99.80</td>\n",
       "    </tr>\n",
       "    <tr>\n",
       "      <th>1</th>\n",
       "      <td>1</td>\n",
       "      <td>True</td>\n",
       "      <td>100.00</td>\n",
       "      <td>99.84</td>\n",
       "    </tr>\n",
       "    <tr>\n",
       "      <th>2</th>\n",
       "      <td>2</td>\n",
       "      <td>False</td>\n",
       "      <td>-156.53</td>\n",
       "      <td>0.75</td>\n",
       "    </tr>\n",
       "    <tr>\n",
       "      <th>3</th>\n",
       "      <td>3</td>\n",
       "      <td>True</td>\n",
       "      <td>98.80</td>\n",
       "      <td>99.90</td>\n",
       "    </tr>\n",
       "    <tr>\n",
       "      <th>4</th>\n",
       "      <td>4</td>\n",
       "      <td>True</td>\n",
       "      <td>90.91</td>\n",
       "      <td>99.92</td>\n",
       "    </tr>\n",
       "    <tr>\n",
       "      <th>...</th>\n",
       "      <td>...</td>\n",
       "      <td>...</td>\n",
       "      <td>...</td>\n",
       "      <td>...</td>\n",
       "    </tr>\n",
       "    <tr>\n",
       "      <th>150805</th>\n",
       "      <td>150805</td>\n",
       "      <td>True</td>\n",
       "      <td>94.37</td>\n",
       "      <td>-66.08</td>\n",
       "    </tr>\n",
       "    <tr>\n",
       "      <th>150806</th>\n",
       "      <td>150806</td>\n",
       "      <td>False</td>\n",
       "      <td>36.02</td>\n",
       "      <td>74.44</td>\n",
       "    </tr>\n",
       "    <tr>\n",
       "      <th>150807</th>\n",
       "      <td>150807</td>\n",
       "      <td>True</td>\n",
       "      <td>97.96</td>\n",
       "      <td>-62.67</td>\n",
       "    </tr>\n",
       "    <tr>\n",
       "      <th>150808</th>\n",
       "      <td>150808</td>\n",
       "      <td>False</td>\n",
       "      <td>39.69</td>\n",
       "      <td>26.92</td>\n",
       "    </tr>\n",
       "    <tr>\n",
       "      <th>150809</th>\n",
       "      <td>150809</td>\n",
       "      <td>True</td>\n",
       "      <td>0.00</td>\n",
       "      <td>0.00</td>\n",
       "    </tr>\n",
       "  </tbody>\n",
       "</table>\n",
       "<p>150810 rows × 4 columns</p>\n",
       "</div>"
      ],
      "text/plain": [
       "        Unnamed: 0  Full-zeroes  Classic    TSB\n",
       "0                0         True    88.26  99.80\n",
       "1                1         True   100.00  99.84\n",
       "2                2        False  -156.53   0.75\n",
       "3                3         True    98.80  99.90\n",
       "4                4         True    90.91  99.92\n",
       "...            ...          ...      ...    ...\n",
       "150805      150805         True    94.37 -66.08\n",
       "150806      150806        False    36.02  74.44\n",
       "150807      150807         True    97.96 -62.67\n",
       "150808      150808        False    39.69  26.92\n",
       "150809      150809         True     0.00   0.00\n",
       "\n",
       "[150810 rows x 4 columns]"
      ]
     },
     "execution_count": 15,
     "metadata": {},
     "output_type": "execute_result"
    }
   ],
   "source": [
    "MEP_df"
   ]
  },
  {
   "cell_type": "code",
   "execution_count": 17,
   "id": "440b88ed",
   "metadata": {
    "ExecuteTime": {
     "end_time": "2024-02-22T08:13:12.214220Z",
     "start_time": "2024-02-22T08:13:12.205714Z"
    }
   },
   "outputs": [],
   "source": [
    "MEP_df = MEP_df.drop(columns=['Unnamed: 0'])"
   ]
  },
  {
   "cell_type": "code",
   "execution_count": 18,
   "id": "3265c17b",
   "metadata": {
    "ExecuteTime": {
     "end_time": "2024-02-22T08:13:16.983308Z",
     "start_time": "2024-02-22T08:13:16.972987Z"
    }
   },
   "outputs": [
    {
     "data": {
      "text/html": [
       "<div>\n",
       "<style scoped>\n",
       "    .dataframe tbody tr th:only-of-type {\n",
       "        vertical-align: middle;\n",
       "    }\n",
       "\n",
       "    .dataframe tbody tr th {\n",
       "        vertical-align: top;\n",
       "    }\n",
       "\n",
       "    .dataframe thead th {\n",
       "        text-align: right;\n",
       "    }\n",
       "</style>\n",
       "<table border=\"1\" class=\"dataframe\">\n",
       "  <thead>\n",
       "    <tr style=\"text-align: right;\">\n",
       "      <th></th>\n",
       "      <th>Full-zeroes</th>\n",
       "      <th>Classic</th>\n",
       "      <th>TSB</th>\n",
       "    </tr>\n",
       "  </thead>\n",
       "  <tbody>\n",
       "    <tr>\n",
       "      <th>0</th>\n",
       "      <td>True</td>\n",
       "      <td>88.26</td>\n",
       "      <td>99.80</td>\n",
       "    </tr>\n",
       "    <tr>\n",
       "      <th>1</th>\n",
       "      <td>True</td>\n",
       "      <td>100.00</td>\n",
       "      <td>99.84</td>\n",
       "    </tr>\n",
       "    <tr>\n",
       "      <th>2</th>\n",
       "      <td>False</td>\n",
       "      <td>-156.53</td>\n",
       "      <td>0.75</td>\n",
       "    </tr>\n",
       "    <tr>\n",
       "      <th>3</th>\n",
       "      <td>True</td>\n",
       "      <td>98.80</td>\n",
       "      <td>99.90</td>\n",
       "    </tr>\n",
       "    <tr>\n",
       "      <th>4</th>\n",
       "      <td>True</td>\n",
       "      <td>90.91</td>\n",
       "      <td>99.92</td>\n",
       "    </tr>\n",
       "    <tr>\n",
       "      <th>...</th>\n",
       "      <td>...</td>\n",
       "      <td>...</td>\n",
       "      <td>...</td>\n",
       "    </tr>\n",
       "    <tr>\n",
       "      <th>150805</th>\n",
       "      <td>True</td>\n",
       "      <td>94.37</td>\n",
       "      <td>-66.08</td>\n",
       "    </tr>\n",
       "    <tr>\n",
       "      <th>150806</th>\n",
       "      <td>False</td>\n",
       "      <td>36.02</td>\n",
       "      <td>74.44</td>\n",
       "    </tr>\n",
       "    <tr>\n",
       "      <th>150807</th>\n",
       "      <td>True</td>\n",
       "      <td>97.96</td>\n",
       "      <td>-62.67</td>\n",
       "    </tr>\n",
       "    <tr>\n",
       "      <th>150808</th>\n",
       "      <td>False</td>\n",
       "      <td>39.69</td>\n",
       "      <td>26.92</td>\n",
       "    </tr>\n",
       "    <tr>\n",
       "      <th>150809</th>\n",
       "      <td>True</td>\n",
       "      <td>0.00</td>\n",
       "      <td>0.00</td>\n",
       "    </tr>\n",
       "  </tbody>\n",
       "</table>\n",
       "<p>150810 rows × 3 columns</p>\n",
       "</div>"
      ],
      "text/plain": [
       "        Full-zeroes  Classic    TSB\n",
       "0              True    88.26  99.80\n",
       "1              True   100.00  99.84\n",
       "2             False  -156.53   0.75\n",
       "3              True    98.80  99.90\n",
       "4              True    90.91  99.92\n",
       "...             ...      ...    ...\n",
       "150805         True    94.37 -66.08\n",
       "150806        False    36.02  74.44\n",
       "150807         True    97.96 -62.67\n",
       "150808        False    39.69  26.92\n",
       "150809         True     0.00   0.00\n",
       "\n",
       "[150810 rows x 3 columns]"
      ]
     },
     "execution_count": 18,
     "metadata": {},
     "output_type": "execute_result"
    }
   ],
   "source": [
    "MEP_df"
   ]
  },
  {
   "cell_type": "code",
   "execution_count": 19,
   "id": "e8229cac",
   "metadata": {
    "ExecuteTime": {
     "end_time": "2024-02-22T08:13:20.380204Z",
     "start_time": "2024-02-22T08:13:20.356677Z"
    }
   },
   "outputs": [
    {
     "data": {
      "text/html": [
       "<div>\n",
       "<style scoped>\n",
       "    .dataframe tbody tr th:only-of-type {\n",
       "        vertical-align: middle;\n",
       "    }\n",
       "\n",
       "    .dataframe tbody tr th {\n",
       "        vertical-align: top;\n",
       "    }\n",
       "\n",
       "    .dataframe thead th {\n",
       "        text-align: right;\n",
       "    }\n",
       "</style>\n",
       "<table border=\"1\" class=\"dataframe\">\n",
       "  <thead>\n",
       "    <tr style=\"text-align: right;\">\n",
       "      <th></th>\n",
       "      <th>Classic</th>\n",
       "      <th>TSB</th>\n",
       "    </tr>\n",
       "  </thead>\n",
       "  <tbody>\n",
       "    <tr>\n",
       "      <th>count</th>\n",
       "      <td>150810.000000</td>\n",
       "      <td>1.508100e+05</td>\n",
       "    </tr>\n",
       "    <tr>\n",
       "      <th>mean</th>\n",
       "      <td>-24.621458</td>\n",
       "      <td>-4.409320e+02</td>\n",
       "    </tr>\n",
       "    <tr>\n",
       "      <th>std</th>\n",
       "      <td>2661.934664</td>\n",
       "      <td>8.576479e+03</td>\n",
       "    </tr>\n",
       "    <tr>\n",
       "      <th>min</th>\n",
       "      <td>-615169.650000</td>\n",
       "      <td>-1.193055e+06</td>\n",
       "    </tr>\n",
       "    <tr>\n",
       "      <th>25%</th>\n",
       "      <td>18.430000</td>\n",
       "      <td>0.000000e+00</td>\n",
       "    </tr>\n",
       "    <tr>\n",
       "      <th>50%</th>\n",
       "      <td>79.585000</td>\n",
       "      <td>4.843500e+01</td>\n",
       "    </tr>\n",
       "    <tr>\n",
       "      <th>75%</th>\n",
       "      <td>96.660000</td>\n",
       "      <td>9.999000e+01</td>\n",
       "    </tr>\n",
       "    <tr>\n",
       "      <th>max</th>\n",
       "      <td>100.000000</td>\n",
       "      <td>1.000000e+02</td>\n",
       "    </tr>\n",
       "  </tbody>\n",
       "</table>\n",
       "</div>"
      ],
      "text/plain": [
       "             Classic           TSB\n",
       "count  150810.000000  1.508100e+05\n",
       "mean      -24.621458 -4.409320e+02\n",
       "std      2661.934664  8.576479e+03\n",
       "min   -615169.650000 -1.193055e+06\n",
       "25%        18.430000  0.000000e+00\n",
       "50%        79.585000  4.843500e+01\n",
       "75%        96.660000  9.999000e+01\n",
       "max       100.000000  1.000000e+02"
      ]
     },
     "execution_count": 19,
     "metadata": {},
     "output_type": "execute_result"
    }
   ],
   "source": [
    "MEP_df.describe()"
   ]
  },
  {
   "cell_type": "markdown",
   "id": "dfc4aa40",
   "metadata": {},
   "source": [
    "## Visuallize"
   ]
  },
  {
   "cell_type": "code",
   "execution_count": 24,
   "id": "afd7736d",
   "metadata": {
    "ExecuteTime": {
     "end_time": "2024-02-22T08:15:02.410807Z",
     "start_time": "2024-02-22T08:15:01.086011Z"
    }
   },
   "outputs": [],
   "source": [
    "import matplotlib.pyplot as plt\n",
    "import seaborn as sns"
   ]
  },
  {
   "cell_type": "code",
   "execution_count": 34,
   "id": "367c68f4",
   "metadata": {
    "ExecuteTime": {
     "end_time": "2024-02-22T08:18:40.905499Z",
     "start_time": "2024-02-22T08:18:40.901021Z"
    }
   },
   "outputs": [],
   "source": [
    "def draw(labels,sizes):\n",
    "    plt.pie(sizes, autopct='%1.2f%%')\n",
    "    plt.axis('equal')  \n",
    "    legend_labels = [f'{label}: {size}' for label, size in zip(labels, sizes)]\n",
    "    plt.legend(legend_labels, loc='center right', bbox_to_anchor=(1.5, 0.5))"
   ]
  },
  {
   "cell_type": "markdown",
   "id": "2969b851",
   "metadata": {
    "ExecuteTime": {
     "end_time": "2024-02-22T04:24:15.536378Z",
     "start_time": "2024-02-22T04:24:15.532328Z"
    }
   },
   "source": [
    "### Whole data"
   ]
  },
  {
   "cell_type": "code",
   "execution_count": 31,
   "id": "e053149d",
   "metadata": {
    "ExecuteTime": {
     "end_time": "2024-02-22T08:18:31.216844Z",
     "start_time": "2024-02-22T08:18:31.213787Z"
    }
   },
   "outputs": [],
   "source": [
    "num_point = 150810"
   ]
  },
  {
   "cell_type": "code",
   "execution_count": 30,
   "id": "b3304c5d",
   "metadata": {
    "ExecuteTime": {
     "end_time": "2024-02-22T08:18:27.424362Z",
     "start_time": "2024-02-22T08:18:27.397453Z"
    }
   },
   "outputs": [
    {
     "data": {
      "text/html": [
       "<div>\n",
       "<style scoped>\n",
       "    .dataframe tbody tr th:only-of-type {\n",
       "        vertical-align: middle;\n",
       "    }\n",
       "\n",
       "    .dataframe tbody tr th {\n",
       "        vertical-align: top;\n",
       "    }\n",
       "\n",
       "    .dataframe thead th {\n",
       "        text-align: right;\n",
       "    }\n",
       "</style>\n",
       "<table border=\"1\" class=\"dataframe\">\n",
       "  <thead>\n",
       "    <tr style=\"text-align: right;\">\n",
       "      <th></th>\n",
       "      <th>Full-zeroes</th>\n",
       "      <th>Classic/TSB</th>\n",
       "      <th>value</th>\n",
       "    </tr>\n",
       "  </thead>\n",
       "  <tbody>\n",
       "    <tr>\n",
       "      <th>0</th>\n",
       "      <td>True</td>\n",
       "      <td>Classic</td>\n",
       "      <td>88.26</td>\n",
       "    </tr>\n",
       "    <tr>\n",
       "      <th>1</th>\n",
       "      <td>True</td>\n",
       "      <td>Classic</td>\n",
       "      <td>100.00</td>\n",
       "    </tr>\n",
       "    <tr>\n",
       "      <th>2</th>\n",
       "      <td>False</td>\n",
       "      <td>Classic</td>\n",
       "      <td>-156.53</td>\n",
       "    </tr>\n",
       "    <tr>\n",
       "      <th>3</th>\n",
       "      <td>True</td>\n",
       "      <td>Classic</td>\n",
       "      <td>98.80</td>\n",
       "    </tr>\n",
       "    <tr>\n",
       "      <th>4</th>\n",
       "      <td>True</td>\n",
       "      <td>Classic</td>\n",
       "      <td>90.91</td>\n",
       "    </tr>\n",
       "    <tr>\n",
       "      <th>...</th>\n",
       "      <td>...</td>\n",
       "      <td>...</td>\n",
       "      <td>...</td>\n",
       "    </tr>\n",
       "    <tr>\n",
       "      <th>301615</th>\n",
       "      <td>True</td>\n",
       "      <td>TSB</td>\n",
       "      <td>-66.08</td>\n",
       "    </tr>\n",
       "    <tr>\n",
       "      <th>301616</th>\n",
       "      <td>False</td>\n",
       "      <td>TSB</td>\n",
       "      <td>74.44</td>\n",
       "    </tr>\n",
       "    <tr>\n",
       "      <th>301617</th>\n",
       "      <td>True</td>\n",
       "      <td>TSB</td>\n",
       "      <td>-62.67</td>\n",
       "    </tr>\n",
       "    <tr>\n",
       "      <th>301618</th>\n",
       "      <td>False</td>\n",
       "      <td>TSB</td>\n",
       "      <td>26.92</td>\n",
       "    </tr>\n",
       "    <tr>\n",
       "      <th>301619</th>\n",
       "      <td>True</td>\n",
       "      <td>TSB</td>\n",
       "      <td>0.00</td>\n",
       "    </tr>\n",
       "  </tbody>\n",
       "</table>\n",
       "<p>301620 rows × 3 columns</p>\n",
       "</div>"
      ],
      "text/plain": [
       "        Full-zeroes Classic/TSB   value\n",
       "0              True     Classic   88.26\n",
       "1              True     Classic  100.00\n",
       "2             False     Classic -156.53\n",
       "3              True     Classic   98.80\n",
       "4              True     Classic   90.91\n",
       "...             ...         ...     ...\n",
       "301615         True         TSB  -66.08\n",
       "301616        False         TSB   74.44\n",
       "301617         True         TSB  -62.67\n",
       "301618        False         TSB   26.92\n",
       "301619         True         TSB    0.00\n",
       "\n",
       "[301620 rows x 3 columns]"
      ]
     },
     "execution_count": 30,
     "metadata": {},
     "output_type": "execute_result"
    }
   ],
   "source": [
    "MEP_df_melt = pd.melt(MEP_df, id_vars=['Full-zeroes'], value_vars=['Classic', 'TSB'], var_name='Classic/TSB', value_name='value')\n",
    "MEP_df_melt"
   ]
  },
  {
   "cell_type": "code",
   "execution_count": 239,
   "id": "de81b03a",
   "metadata": {
    "ExecuteTime": {
     "end_time": "2024-02-22T07:08:36.298466Z",
     "start_time": "2024-02-22T07:08:36.178336Z"
    }
   },
   "outputs": [
    {
     "data": {
      "image/png": "[encoded data removed]",
      "text/plain": [
       "<Figure size 640x480 with 1 Axes>"
      ]
     },
     "metadata": {},
     "output_type": "display_data"
    }
   ],
   "source": [
    "above_80 = len(MEP_df_melt[MEP_df_melt.value > 80])\n",
    "under_80 = len(MEP_df_melt[MEP_df_melt.value < 80])\n",
    "draw(['Over 80%','Under 80%'],[above_80,under_80])"
   ]
  },
  {
   "cell_type": "markdown",
   "id": "970dc48a",
   "metadata": {},
   "source": [
    "<div style=\"margin-left: 400px;\"><font size=5> Whole data"
   ]
  },
  {
   "cell_type": "code",
   "execution_count": 50,
   "id": "6a7b5ad5",
   "metadata": {
    "ExecuteTime": {
     "end_time": "2024-02-22T08:28:54.242656Z",
     "start_time": "2024-02-22T08:28:54.221870Z"
    }
   },
   "outputs": [],
   "source": [
    "MEP_df_full_zeros = MEP_df_melt[MEP_df_melt['Full-zeroes']==True]\n",
    "above_80_zeros = len(MEP_df_full_zeros[MEP_df_full_zeros.value > 80])\n",
    "under_80_zeros = len(MEP_df_full_zeros[MEP_df_full_zeros.value < 80])"
   ]
  },
  {
   "cell_type": "code",
   "execution_count": 51,
   "id": "2de3e91d",
   "metadata": {
    "ExecuteTime": {
     "end_time": "2024-02-22T08:28:54.796191Z",
     "start_time": "2024-02-22T08:28:54.781707Z"
    }
   },
   "outputs": [],
   "source": [
    "MEP_df_non_full_zeros = MEP_df_melt[MEP_df_melt['Full-zeroes']==False]\n",
    "above_80_non_zeros = len(MEP_df_non_full_zeros[MEP_df_non_full_zeros.value > 80])\n",
    "under_80_non_zeros = len(MEP_df_non_full_zeros[MEP_df_non_full_zeros.value < 80])"
   ]
  },
  {
   "cell_type": "code",
   "execution_count": 52,
   "id": "b53b5b3d",
   "metadata": {
    "ExecuteTime": {
     "end_time": "2024-02-22T08:28:55.881957Z",
     "start_time": "2024-02-22T08:28:55.621662Z"
    }
   },
   "outputs": [
    {
     "data": {
      "text/plain": [
       "<matplotlib.legend.Legend at 0x20ac0e64410>"
      ]
     },
     "execution_count": 52,
     "metadata": {},
     "output_type": "execute_result"
    },
    {
     "data": {
      "image/png": "[encoded data removed]",
      "text/plain": [
       "<Figure size 1400x1400 with 2 Axes>"
      ]
     },
     "metadata": {},
     "output_type": "display_data"
    }
   ],
   "source": [
    "sizes_zeros = [above_80_zeros,under_80_zeros]\n",
    "sizes_non_zeros = [above_80_non_zeros,under_80_non_zeros]\n",
    "labels = ['Over 80%','Under 80%']\n",
    "\n",
    "fig, (ax1, ax2) = plt.subplots(1, 2,figsize=(14,14))\n",
    "\n",
    "ax1.pie(sizes_zeros, labels=labels, autopct='%1.1f%%')\n",
    "ax1.set_title('Full zeros')\n",
    "legend_labels = [f'{label}: {size}' for label, size in zip(labels, sizes_zeros)]\n",
    "ax1.legend(legend_labels, loc='lower left')\n",
    "\n",
    "ax2.pie(sizes_non_zeros, labels=labels, autopct='%1.1f%%')\n",
    "ax2.set_title('Non-full-zeros')\n",
    "legend_labels = [f'{label}: {size}' for label, size in zip(labels, sizes_non_zeros)]\n",
    "ax2.legend(legend_labels, loc='lower right' )"
   ]
  },
  {
   "cell_type": "markdown",
   "id": "e953a5bc",
   "metadata": {
    "ExecuteTime": {
     "end_time": "2024-02-22T04:11:54.063794Z",
     "start_time": "2024-02-22T04:11:54.060263Z"
    }
   },
   "source": [
    "### Drop worst-result"
   ]
  },
  {
   "cell_type": "code",
   "execution_count": 60,
   "id": "7db37f8b",
   "metadata": {
    "ExecuteTime": {
     "end_time": "2024-02-22T08:42:45.805706Z",
     "start_time": "2024-02-22T08:42:45.797584Z"
    }
   },
   "outputs": [
    {
     "data": {
      "text/plain": [
       "2720"
      ]
     },
     "execution_count": 60,
     "metadata": {},
     "output_type": "execute_result"
    }
   ],
   "source": [
    "len(MEP_df[(MEP_df['Classic'] < 0) & (MEP_df['TSB'] < 0)].index)"
   ]
  },
  {
   "cell_type": "code",
   "execution_count": 61,
   "id": "f85ae183",
   "metadata": {
    "ExecuteTime": {
     "end_time": "2024-02-22T08:42:46.411033Z",
     "start_time": "2024-02-22T08:42:46.398051Z"
    }
   },
   "outputs": [],
   "source": [
    "MEP_df_viz = MEP_df.drop(MEP_df[(MEP_df['Classic'] < 0) & (MEP_df['TSB'] < 0)].index)"
   ]
  },
  {
   "cell_type": "markdown",
   "id": "0946707a",
   "metadata": {},
   "source": [
    "**Full-zeros**"
   ]
  },
  {
   "cell_type": "code",
   "execution_count": 62,
   "id": "b3edd1f9",
   "metadata": {
    "ExecuteTime": {
     "end_time": "2024-02-22T08:42:48.073376Z",
     "start_time": "2024-02-22T08:42:48.061120Z"
    }
   },
   "outputs": [],
   "source": [
    "MEP_df_viz_zeroes = MEP_df.drop(MEP_df[(MEP_df['Full-zeroes'] == False)].index)"
   ]
  },
  {
   "cell_type": "code",
   "execution_count": 67,
   "id": "58daf817",
   "metadata": {
    "ExecuteTime": {
     "end_time": "2024-02-22T08:43:51.143638Z",
     "start_time": "2024-02-22T08:43:48.533671Z"
    }
   },
   "outputs": [
    {
     "data": {
      "image/png": "[encoded data removed]",
      "text/plain": [
       "<Figure size 2000x1500 with 4 Axes>"
      ]
     },
     "metadata": {},
     "output_type": "display_data"
    }
   ],
   "source": [
    "fig,ax = plt.subplots(4,1,figsize=(20,15),gridspec_kw={\"height_ratios\":(.80,.20,.20,.80)})\n",
    "\n",
    "\n",
    "sns.histplot(x = MEP_df_viz_zeroes.Classic,color='skyblue',label=\"Classic\",kde=True,ax=ax[0],bins=20,binrange=(0,100))\n",
    "sns.histplot(x = MEP_df_viz_zeroes.TSB,color='red',label=\"TSB\",kde=True,ax=ax[3],bins=20,binrange=(0,100))\n",
    "\n",
    "sns.boxplot(x=MEP_df_viz_zeroes.Classic,color='skyblue',ax=ax[1])\n",
    "sns.boxplot(x=MEP_df_viz_zeroes.TSB,color='red',ax=ax[2]);\n",
    "\n",
    "ax[0].set_ylim(0,60000)\n",
    "ax[3].set_ylim(0,60000)\n",
    "\n",
    "for a in ax:\n",
    "    a.set_xlim(0, 100)"
   ]
  },
  {
   "cell_type": "markdown",
   "id": "ae73f159",
   "metadata": {},
   "source": [
    "👉 TSB better"
   ]
  },
  {
   "cell_type": "markdown",
   "id": "8eb5a691",
   "metadata": {},
   "source": [
    "**Non-full-zeros**"
   ]
  },
  {
   "cell_type": "code",
   "execution_count": 69,
   "id": "3a24a5ba",
   "metadata": {
    "ExecuteTime": {
     "end_time": "2024-02-22T08:44:07.050114Z",
     "start_time": "2024-02-22T08:44:07.037723Z"
    }
   },
   "outputs": [],
   "source": [
    "MEP_df_viz_non_zeroes = MEP_df.drop(MEP_df[(MEP_df['Full-zeroes'] == True)].index)"
   ]
  },
  {
   "cell_type": "code",
   "execution_count": 71,
   "id": "270166f3",
   "metadata": {
    "ExecuteTime": {
     "end_time": "2024-02-22T09:06:53.665038Z",
     "start_time": "2024-02-22T09:06:51.343677Z"
    }
   },
   "outputs": [
    {
     "data": {
      "image/png": "[encoded data removed]",
      "text/plain": [
       "<Figure size 2000x1500 with 4 Axes>"
      ]
     },
     "metadata": {},
     "output_type": "display_data"
    }
   ],
   "source": [
    "fig,ax = plt.subplots(4,1,figsize=(20,15),gridspec_kw={\"height_ratios\":(.80,.20,.20,.80)})\n",
    "\n",
    "\n",
    "sns.histplot(x = MEP_df_viz_non_zeroes.Classic,color='skyblue',label=\"Classic\",kde=True,ax=ax[0],bins=20,binrange=(0,100))\n",
    "sns.histplot(x = MEP_df_viz_non_zeroes.TSB,color='red',label=\"TSB\",kde=True,ax=ax[3],bins=20,binrange=(0,100))\n",
    "\n",
    "sns.boxplot(x=MEP_df_viz_non_zeroes.Classic,color='skyblue',ax=ax[1])\n",
    "sns.boxplot(x=MEP_df_viz_non_zeroes.TSB,color='red',ax=ax[2]);\n",
    "\n",
    "ax[0].set_ylim(0,40000)\n",
    "ax[3].set_ylim(0,40000)\n",
    "\n",
    "for a in ax:\n",
    "    a.set_xlim(0, 100)"
   ]
  },
  {
   "cell_type": "markdown",
   "id": "de936180",
   "metadata": {},
   "source": [
    "👉 Classic better"
   ]
  },
  {
   "cell_type": "code",
   "execution_count": null,
   "id": "2943acfd",
   "metadata": {},
   "outputs": [],
   "source": []
  },
  {
   "cell_type": "code",
   "execution_count": null,
   "id": "abfc792d",
   "metadata": {},
   "outputs": [],
   "source": []
  },
  {
   "cell_type": "code",
   "execution_count": null,
   "id": "cab6b35b",
   "metadata": {},
   "outputs": [],
   "source": []
  },
  {
   "cell_type": "code",
   "execution_count": null,
   "id": "90e2b172",
   "metadata": {},
   "outputs": [],
   "source": []
  },
  {
   "cell_type": "code",
   "execution_count": null,
   "id": "4e1330d9",
   "metadata": {},
   "outputs": [],
   "source": []
  },
  {
   "cell_type": "code",
   "execution_count": null,
   "id": "e2d500d7",
   "metadata": {},
   "outputs": [],
   "source": []
  },
  {
   "cell_type": "code",
   "execution_count": null,
   "id": "4193380b",
   "metadata": {},
   "outputs": [],
   "source": []
  },
  {
   "cell_type": "code",
   "execution_count": null,
   "id": "720c1d9a",
   "metadata": {},
   "outputs": [],
   "source": []
  },
  {
   "cell_type": "code",
   "execution_count": null,
   "id": "aeda0201",
   "metadata": {},
   "outputs": [],
   "source": []
  },
  {
   "cell_type": "code",
   "execution_count": null,
   "id": "67f43473",
   "metadata": {},
   "outputs": [],
   "source": []
  },
  {
   "cell_type": "code",
   "execution_count": null,
   "id": "a39dbac1",
   "metadata": {},
   "outputs": [],
   "source": []
  },
  {
   "cell_type": "markdown",
   "id": "9d4c93b2",
   "metadata": {},
   "source": [
    "# Emoji"
   ]
  },
  {
   "cell_type": "markdown",
   "id": "a1607e6a",
   "metadata": {},
   "source": [
    "\n",
    "<span style=\"color:red\">&#10060;</span> : X\n",
    "\n",
    "👉 👇\n",
    "\n",
    "\n",
    "⚠️\n",
    "\n",
    "\n",
    "<span style=\"color: green; font-size: 24px;\">&#10004;</span>\n",
    ": Dấu tích\n",
    "\n",
    "💡\n",
    "\n",
    "📚\n",
    "\n",
    "🧮\n",
    "\n",
    "   \n",
    "<img src='link' style=\"width:500px;\"/> : Chèn ảnh\n",
    "    \n",
    "<div style=\"margin-left: 200px;\">: căn lề\n",
    "    \n",
    "<span style=\"color: red;\"> Chữ_màu</span>"
   ]
  },
  {
   "cell_type": "code",
   "execution_count": null,
   "id": "b4ac3c64",
   "metadata": {},
   "outputs": [],
   "source": []
  }
 ],
 "metadata": {
  "kernelspec": {
   "display_name": "Python 3 (ipykernel)",
   "language": "python",
   "name": "python3"
  },
  "language_info": {
   "codemirror_mode": {
    "name": "ipython",
    "version": 3
   },
   "file_extension": ".py",
   "mimetype": "text/x-python",
   "name": "python",
   "nbconvert_exporter": "python",
   "pygments_lexer": "ipython3",
   "version": "3.11.4"
  },
  "toc": {
   "base_numbering": 1,
   "nav_menu": {},
   "number_sections": true,
   "sideBar": true,
   "skip_h1_title": false,
   "title_cell": "Table of Contents",
   "title_sidebar": "Contents",
   "toc_cell": false,
   "toc_position": {
    "height": "calc(100% - 180px)",
    "left": "10px",
    "top": "150px",
    "width": "305.417px"
   },
   "toc_section_display": true,
   "toc_window_display": true
  },
  "varInspector": {
   "cols": {
    "lenName": 16,
    "lenType": 16,
    "lenVar": 40
   },
   "kernels_config": {
    "python": {
     "delete_cmd_postfix": "",
     "delete_cmd_prefix": "del ",
     "library": "var_list.py",
     "varRefreshCmd": "print(var_dic_list())"
    },
    "r": {
     "delete_cmd_postfix": ") ",
     "delete_cmd_prefix": "rm(",
     "library": "var_list.r",
     "varRefreshCmd": "cat(var_dic_list()) "
    }
   },
   "types_to_exclude": [
    "module",
    "function",
    "builtin_function_or_method",
    "instance",
    "_Feature"
   ],
   "window_display": false
  }
 },
 "nbformat": 4,
 "nbformat_minor": 5
}
