{
 "cells": [
  {
   "cell_type": "markdown",
   "id": "f6a00cd4",
   "metadata": {},
   "source": [
    "# Import"
   ]
  },
  {
   "cell_type": "code",
   "execution_count": 1,
   "id": "945c96f3",
   "metadata": {
    "ExecuteTime": {
     "end_time": "2024-02-21T02:18:55.941978Z",
     "start_time": "2024-02-21T02:18:55.338500Z"
    }
   },
   "outputs": [],
   "source": [
    "import pandas as pd\n",
    "import numpy as np\n",
    "import random\n",
    "from datetime import datetime\n",
    "from tqdm import tqdm\n",
    "import time\n",
    "import warnings\n",
    "warnings.filterwarnings(\"ignore\")"
   ]
  },
  {
   "cell_type": "code",
   "execution_count": 2,
   "id": "f05c2b8e",
   "metadata": {
    "ExecuteTime": {
     "end_time": "2024-02-21T02:19:00.354153Z",
     "start_time": "2024-02-21T02:18:55.959414Z"
    }
   },
   "outputs": [],
   "source": [
    "from sktime.forecasting.croston import Croston\n",
    "from statsforecast import StatsForecast\n",
    "from statsforecast.models import CrostonClassic, TSB\n",
    "from sklearn.metrics import mean_absolute_error, mean_squared_error,mean_absolute_percentage_error"
   ]
  },
  {
   "cell_type": "code",
   "execution_count": 3,
   "id": "1c8a1bc5",
   "metadata": {
    "ExecuteTime": {
     "end_time": "2024-02-21T02:19:00.380186Z",
     "start_time": "2024-02-21T02:19:00.375341Z"
    }
   },
   "outputs": [],
   "source": [
    "def convert_to_datetime(input_string):\n",
    "    year = int(input_string[1:5])\n",
    "    month = int(input_string[5:])\n",
    "\n",
    "    result_datetime = datetime(year, month,1)\n",
    "\n",
    "    return result_datetime"
   ]
  },
  {
   "cell_type": "markdown",
   "id": "e2052cae",
   "metadata": {},
   "source": [
    "# DF"
   ]
  },
  {
   "cell_type": "code",
   "execution_count": 4,
   "id": "1aea8eb7",
   "metadata": {
    "ExecuteTime": {
     "end_time": "2024-02-21T02:19:04.267956Z",
     "start_time": "2024-02-21T02:19:02.826434Z"
    }
   },
   "outputs": [],
   "source": [
    "df = pd.read_csv('..\\..\\Data\\Verbr_2008_2021_sanitarisiert.txt',sep='\\t')\n",
    "df = df.T\n",
    "df = df.iloc[:-1,:]"
   ]
  },
  {
   "cell_type": "code",
   "execution_count": 5,
   "id": "ab524c0c",
   "metadata": {
    "ExecuteTime": {
     "end_time": "2024-02-21T02:19:10.541974Z",
     "start_time": "2024-02-21T02:19:10.444551Z"
    }
   },
   "outputs": [],
   "source": [
    "df.index = df.index.map(convert_to_datetime)"
   ]
  },
  {
   "cell_type": "code",
   "execution_count": 6,
   "id": "be60870f",
   "metadata": {
    "ExecuteTime": {
     "end_time": "2024-02-21T02:19:16.395733Z",
     "start_time": "2024-02-21T02:19:16.389885Z"
    }
   },
   "outputs": [],
   "source": [
    "train_sktime = df.iloc[:156]\n",
    "val_sktime = df.iloc[156:]"
   ]
  },
  {
   "cell_type": "markdown",
   "id": "9eab4ec6",
   "metadata": {},
   "source": [
    "# Croston Sktime"
   ]
  },
  {
   "cell_type": "code",
   "execution_count": 9,
   "id": "d3253e01",
   "metadata": {
    "ExecuteTime": {
     "end_time": "2024-02-21T02:19:53.317903Z",
     "start_time": "2024-02-21T02:19:53.313708Z"
    }
   },
   "outputs": [],
   "source": [
    "predict_croston_01 = pd.DataFrame(val_sktime)"
   ]
  },
  {
   "cell_type": "code",
   "execution_count": 9,
   "id": "9c909c35",
   "metadata": {
    "ExecuteTime": {
     "end_time": "2024-02-19T02:31:47.179686Z",
     "start_time": "2024-02-19T02:31:04.138032Z"
    }
   },
   "outputs": [
    {
     "name": "stderr",
     "output_type": "stream",
     "text": [
      "  3%|██▎                                                                        | 4754/150810 [00:43<22:01, 110.51it/s]\n"
     ]
    },
    {
     "ename": "KeyboardInterrupt",
     "evalue": "",
     "output_type": "error",
     "traceback": [
      "\u001b[1;31m---------------------------------------------------------------------------\u001b[0m",
      "\u001b[1;31mKeyboardInterrupt\u001b[0m                         Traceback (most recent call last)",
      "Cell \u001b[1;32mIn[9], line 2\u001b[0m\n\u001b[0;32m      1\u001b[0m \u001b[38;5;28;01mfor\u001b[39;00m i \u001b[38;5;129;01min\u001b[39;00m tqdm(\u001b[38;5;28mrange\u001b[39m(\u001b[38;5;28mlen\u001b[39m(val_sktime\u001b[38;5;241m.\u001b[39mcolumns)),position\u001b[38;5;241m=\u001b[39m\u001b[38;5;241m0\u001b[39m,leave\u001b[38;5;241m=\u001b[39m\u001b[38;5;28;01mTrue\u001b[39;00m):\n\u001b[1;32m----> 2\u001b[0m     ts \u001b[38;5;241m=\u001b[39m np\u001b[38;5;241m.\u001b[39marray(train_sktime\u001b[38;5;241m.\u001b[39miloc[:,i])\n\u001b[0;32m      3\u001b[0m     \u001b[38;5;66;03m#series = TimeSeries.from_values(ts)\u001b[39;00m\n\u001b[0;32m      4\u001b[0m     model \u001b[38;5;241m=\u001b[39m Croston()\n",
      "\u001b[1;31mKeyboardInterrupt\u001b[0m: "
     ]
    }
   ],
   "source": [
    "for i in tqdm(range(len(val_sktime.columns)),position=0,leave=True):\n",
    "    ts = np.array(train_sktime.iloc[:,i])\n",
    "    #series = TimeSeries.from_values(ts)\n",
    "    model = Croston()\n",
    "    model.fit(ts)\n",
    "    pred_series = model.predict(fh=[1,2,3,4,5,6,7,8,9,10,11,12])\n",
    "    predict_croston_01.iloc[:,i] = pred_series"
   ]
  },
  {
   "cell_type": "code",
   "execution_count": 28,
   "id": "9b83ee02",
   "metadata": {
    "ExecuteTime": {
     "end_time": "2024-02-05T05:31:14.843702Z",
     "start_time": "2024-02-05T05:30:16.593011Z"
    }
   },
   "outputs": [],
   "source": []
  },
  {
   "cell_type": "code",
   "execution_count": 8,
   "id": "647cc011",
   "metadata": {
    "ExecuteTime": {
     "end_time": "2024-02-20T06:53:54.333792Z",
     "start_time": "2024-02-20T06:53:46.256342Z"
    }
   },
   "outputs": [
    {
     "data": {
      "text/html": [
       "<div>\n",
       "<style scoped>\n",
       "    .dataframe tbody tr th:only-of-type {\n",
       "        vertical-align: middle;\n",
       "    }\n",
       "\n",
       "    .dataframe tbody tr th {\n",
       "        vertical-align: top;\n",
       "    }\n",
       "\n",
       "    .dataframe thead th {\n",
       "        text-align: right;\n",
       "    }\n",
       "</style>\n",
       "<table border=\"1\" class=\"dataframe\">\n",
       "  <thead>\n",
       "    <tr style=\"text-align: right;\">\n",
       "      <th></th>\n",
       "      <th>Unnamed: 0</th>\n",
       "      <th>0</th>\n",
       "      <th>1</th>\n",
       "      <th>2</th>\n",
       "      <th>3</th>\n",
       "      <th>4</th>\n",
       "      <th>5</th>\n",
       "      <th>6</th>\n",
       "      <th>7</th>\n",
       "      <th>8</th>\n",
       "      <th>...</th>\n",
       "      <th>150800</th>\n",
       "      <th>150801</th>\n",
       "      <th>150802</th>\n",
       "      <th>150803</th>\n",
       "      <th>150804</th>\n",
       "      <th>150805</th>\n",
       "      <th>150806</th>\n",
       "      <th>150807</th>\n",
       "      <th>150808</th>\n",
       "      <th>150809</th>\n",
       "    </tr>\n",
       "  </thead>\n",
       "  <tbody>\n",
       "    <tr>\n",
       "      <th>0</th>\n",
       "      <td>2021-01-01</td>\n",
       "      <td>0.117377</td>\n",
       "      <td>0.0</td>\n",
       "      <td>0.594219</td>\n",
       "      <td>0.01199</td>\n",
       "      <td>0.090909</td>\n",
       "      <td>2.709641</td>\n",
       "      <td>0.064103</td>\n",
       "      <td>0.595657</td>\n",
       "      <td>27.101167</td>\n",
       "      <td>...</td>\n",
       "      <td>3.935216</td>\n",
       "      <td>0.2</td>\n",
       "      <td>0.044886</td>\n",
       "      <td>0.014925</td>\n",
       "      <td>0.134692</td>\n",
       "      <td>0.056338</td>\n",
       "      <td>3.826199</td>\n",
       "      <td>0.020408</td>\n",
       "      <td>1.900535</td>\n",
       "      <td>0.123668</td>\n",
       "    </tr>\n",
       "    <tr>\n",
       "      <th>1</th>\n",
       "      <td>2021-02-01</td>\n",
       "      <td>0.117377</td>\n",
       "      <td>0.0</td>\n",
       "      <td>0.594219</td>\n",
       "      <td>0.01199</td>\n",
       "      <td>0.090909</td>\n",
       "      <td>2.709641</td>\n",
       "      <td>0.064103</td>\n",
       "      <td>0.595657</td>\n",
       "      <td>27.101167</td>\n",
       "      <td>...</td>\n",
       "      <td>3.935216</td>\n",
       "      <td>0.2</td>\n",
       "      <td>0.044886</td>\n",
       "      <td>0.014925</td>\n",
       "      <td>0.134692</td>\n",
       "      <td>0.056338</td>\n",
       "      <td>3.826199</td>\n",
       "      <td>0.020408</td>\n",
       "      <td>1.900535</td>\n",
       "      <td>0.123668</td>\n",
       "    </tr>\n",
       "    <tr>\n",
       "      <th>2</th>\n",
       "      <td>2021-03-01</td>\n",
       "      <td>0.117377</td>\n",
       "      <td>0.0</td>\n",
       "      <td>0.594219</td>\n",
       "      <td>0.01199</td>\n",
       "      <td>0.090909</td>\n",
       "      <td>2.709641</td>\n",
       "      <td>0.064103</td>\n",
       "      <td>0.595657</td>\n",
       "      <td>27.101167</td>\n",
       "      <td>...</td>\n",
       "      <td>3.935216</td>\n",
       "      <td>0.2</td>\n",
       "      <td>0.044886</td>\n",
       "      <td>0.014925</td>\n",
       "      <td>0.134692</td>\n",
       "      <td>0.056338</td>\n",
       "      <td>3.826199</td>\n",
       "      <td>0.020408</td>\n",
       "      <td>1.900535</td>\n",
       "      <td>0.123668</td>\n",
       "    </tr>\n",
       "    <tr>\n",
       "      <th>3</th>\n",
       "      <td>2021-04-01</td>\n",
       "      <td>0.117377</td>\n",
       "      <td>0.0</td>\n",
       "      <td>0.594219</td>\n",
       "      <td>0.01199</td>\n",
       "      <td>0.090909</td>\n",
       "      <td>2.709641</td>\n",
       "      <td>0.064103</td>\n",
       "      <td>0.595657</td>\n",
       "      <td>27.101167</td>\n",
       "      <td>...</td>\n",
       "      <td>3.935216</td>\n",
       "      <td>0.2</td>\n",
       "      <td>0.044886</td>\n",
       "      <td>0.014925</td>\n",
       "      <td>0.134692</td>\n",
       "      <td>0.056338</td>\n",
       "      <td>3.826199</td>\n",
       "      <td>0.020408</td>\n",
       "      <td>1.900535</td>\n",
       "      <td>0.123668</td>\n",
       "    </tr>\n",
       "    <tr>\n",
       "      <th>4</th>\n",
       "      <td>2021-05-01</td>\n",
       "      <td>0.117377</td>\n",
       "      <td>0.0</td>\n",
       "      <td>0.594219</td>\n",
       "      <td>0.01199</td>\n",
       "      <td>0.090909</td>\n",
       "      <td>2.709641</td>\n",
       "      <td>0.064103</td>\n",
       "      <td>0.595657</td>\n",
       "      <td>27.101167</td>\n",
       "      <td>...</td>\n",
       "      <td>3.935216</td>\n",
       "      <td>0.2</td>\n",
       "      <td>0.044886</td>\n",
       "      <td>0.014925</td>\n",
       "      <td>0.134692</td>\n",
       "      <td>0.056338</td>\n",
       "      <td>3.826199</td>\n",
       "      <td>0.020408</td>\n",
       "      <td>1.900535</td>\n",
       "      <td>0.123668</td>\n",
       "    </tr>\n",
       "    <tr>\n",
       "      <th>5</th>\n",
       "      <td>2021-06-01</td>\n",
       "      <td>0.117377</td>\n",
       "      <td>0.0</td>\n",
       "      <td>0.594219</td>\n",
       "      <td>0.01199</td>\n",
       "      <td>0.090909</td>\n",
       "      <td>2.709641</td>\n",
       "      <td>0.064103</td>\n",
       "      <td>0.595657</td>\n",
       "      <td>27.101167</td>\n",
       "      <td>...</td>\n",
       "      <td>3.935216</td>\n",
       "      <td>0.2</td>\n",
       "      <td>0.044886</td>\n",
       "      <td>0.014925</td>\n",
       "      <td>0.134692</td>\n",
       "      <td>0.056338</td>\n",
       "      <td>3.826199</td>\n",
       "      <td>0.020408</td>\n",
       "      <td>1.900535</td>\n",
       "      <td>0.123668</td>\n",
       "    </tr>\n",
       "    <tr>\n",
       "      <th>6</th>\n",
       "      <td>2021-07-01</td>\n",
       "      <td>0.117377</td>\n",
       "      <td>0.0</td>\n",
       "      <td>0.594219</td>\n",
       "      <td>0.01199</td>\n",
       "      <td>0.090909</td>\n",
       "      <td>2.709641</td>\n",
       "      <td>0.064103</td>\n",
       "      <td>0.595657</td>\n",
       "      <td>27.101167</td>\n",
       "      <td>...</td>\n",
       "      <td>3.935216</td>\n",
       "      <td>0.2</td>\n",
       "      <td>0.044886</td>\n",
       "      <td>0.014925</td>\n",
       "      <td>0.134692</td>\n",
       "      <td>0.056338</td>\n",
       "      <td>3.826199</td>\n",
       "      <td>0.020408</td>\n",
       "      <td>1.900535</td>\n",
       "      <td>0.123668</td>\n",
       "    </tr>\n",
       "    <tr>\n",
       "      <th>7</th>\n",
       "      <td>2021-08-01</td>\n",
       "      <td>0.117377</td>\n",
       "      <td>0.0</td>\n",
       "      <td>0.594219</td>\n",
       "      <td>0.01199</td>\n",
       "      <td>0.090909</td>\n",
       "      <td>2.709641</td>\n",
       "      <td>0.064103</td>\n",
       "      <td>0.595657</td>\n",
       "      <td>27.101167</td>\n",
       "      <td>...</td>\n",
       "      <td>3.935216</td>\n",
       "      <td>0.2</td>\n",
       "      <td>0.044886</td>\n",
       "      <td>0.014925</td>\n",
       "      <td>0.134692</td>\n",
       "      <td>0.056338</td>\n",
       "      <td>3.826199</td>\n",
       "      <td>0.020408</td>\n",
       "      <td>1.900535</td>\n",
       "      <td>0.123668</td>\n",
       "    </tr>\n",
       "    <tr>\n",
       "      <th>8</th>\n",
       "      <td>2021-09-01</td>\n",
       "      <td>0.117377</td>\n",
       "      <td>0.0</td>\n",
       "      <td>0.594219</td>\n",
       "      <td>0.01199</td>\n",
       "      <td>0.090909</td>\n",
       "      <td>2.709641</td>\n",
       "      <td>0.064103</td>\n",
       "      <td>0.595657</td>\n",
       "      <td>27.101167</td>\n",
       "      <td>...</td>\n",
       "      <td>3.935216</td>\n",
       "      <td>0.2</td>\n",
       "      <td>0.044886</td>\n",
       "      <td>0.014925</td>\n",
       "      <td>0.134692</td>\n",
       "      <td>0.056338</td>\n",
       "      <td>3.826199</td>\n",
       "      <td>0.020408</td>\n",
       "      <td>1.900535</td>\n",
       "      <td>0.123668</td>\n",
       "    </tr>\n",
       "    <tr>\n",
       "      <th>9</th>\n",
       "      <td>2021-10-01</td>\n",
       "      <td>0.117377</td>\n",
       "      <td>0.0</td>\n",
       "      <td>0.594219</td>\n",
       "      <td>0.01199</td>\n",
       "      <td>0.090909</td>\n",
       "      <td>2.709641</td>\n",
       "      <td>0.064103</td>\n",
       "      <td>0.595657</td>\n",
       "      <td>27.101167</td>\n",
       "      <td>...</td>\n",
       "      <td>3.935216</td>\n",
       "      <td>0.2</td>\n",
       "      <td>0.044886</td>\n",
       "      <td>0.014925</td>\n",
       "      <td>0.134692</td>\n",
       "      <td>0.056338</td>\n",
       "      <td>3.826199</td>\n",
       "      <td>0.020408</td>\n",
       "      <td>1.900535</td>\n",
       "      <td>0.123668</td>\n",
       "    </tr>\n",
       "    <tr>\n",
       "      <th>10</th>\n",
       "      <td>2021-11-01</td>\n",
       "      <td>0.117377</td>\n",
       "      <td>0.0</td>\n",
       "      <td>0.594219</td>\n",
       "      <td>0.01199</td>\n",
       "      <td>0.090909</td>\n",
       "      <td>2.709641</td>\n",
       "      <td>0.064103</td>\n",
       "      <td>0.595657</td>\n",
       "      <td>27.101167</td>\n",
       "      <td>...</td>\n",
       "      <td>3.935216</td>\n",
       "      <td>0.2</td>\n",
       "      <td>0.044886</td>\n",
       "      <td>0.014925</td>\n",
       "      <td>0.134692</td>\n",
       "      <td>0.056338</td>\n",
       "      <td>3.826199</td>\n",
       "      <td>0.020408</td>\n",
       "      <td>1.900535</td>\n",
       "      <td>0.123668</td>\n",
       "    </tr>\n",
       "    <tr>\n",
       "      <th>11</th>\n",
       "      <td>2021-12-01</td>\n",
       "      <td>0.117377</td>\n",
       "      <td>0.0</td>\n",
       "      <td>0.594219</td>\n",
       "      <td>0.01199</td>\n",
       "      <td>0.090909</td>\n",
       "      <td>2.709641</td>\n",
       "      <td>0.064103</td>\n",
       "      <td>0.595657</td>\n",
       "      <td>27.101167</td>\n",
       "      <td>...</td>\n",
       "      <td>3.935216</td>\n",
       "      <td>0.2</td>\n",
       "      <td>0.044886</td>\n",
       "      <td>0.014925</td>\n",
       "      <td>0.134692</td>\n",
       "      <td>0.056338</td>\n",
       "      <td>3.826199</td>\n",
       "      <td>0.020408</td>\n",
       "      <td>1.900535</td>\n",
       "      <td>0.123668</td>\n",
       "    </tr>\n",
       "  </tbody>\n",
       "</table>\n",
       "<p>12 rows × 150811 columns</p>\n",
       "</div>"
      ],
      "text/plain": [
       "    Unnamed: 0         0    1         2        3         4         5  \\\n",
       "0   2021-01-01  0.117377  0.0  0.594219  0.01199  0.090909  2.709641   \n",
       "1   2021-02-01  0.117377  0.0  0.594219  0.01199  0.090909  2.709641   \n",
       "2   2021-03-01  0.117377  0.0  0.594219  0.01199  0.090909  2.709641   \n",
       "3   2021-04-01  0.117377  0.0  0.594219  0.01199  0.090909  2.709641   \n",
       "4   2021-05-01  0.117377  0.0  0.594219  0.01199  0.090909  2.709641   \n",
       "5   2021-06-01  0.117377  0.0  0.594219  0.01199  0.090909  2.709641   \n",
       "6   2021-07-01  0.117377  0.0  0.594219  0.01199  0.090909  2.709641   \n",
       "7   2021-08-01  0.117377  0.0  0.594219  0.01199  0.090909  2.709641   \n",
       "8   2021-09-01  0.117377  0.0  0.594219  0.01199  0.090909  2.709641   \n",
       "9   2021-10-01  0.117377  0.0  0.594219  0.01199  0.090909  2.709641   \n",
       "10  2021-11-01  0.117377  0.0  0.594219  0.01199  0.090909  2.709641   \n",
       "11  2021-12-01  0.117377  0.0  0.594219  0.01199  0.090909  2.709641   \n",
       "\n",
       "           6         7          8  ...    150800  150801    150802    150803  \\\n",
       "0   0.064103  0.595657  27.101167  ...  3.935216     0.2  0.044886  0.014925   \n",
       "1   0.064103  0.595657  27.101167  ...  3.935216     0.2  0.044886  0.014925   \n",
       "2   0.064103  0.595657  27.101167  ...  3.935216     0.2  0.044886  0.014925   \n",
       "3   0.064103  0.595657  27.101167  ...  3.935216     0.2  0.044886  0.014925   \n",
       "4   0.064103  0.595657  27.101167  ...  3.935216     0.2  0.044886  0.014925   \n",
       "5   0.064103  0.595657  27.101167  ...  3.935216     0.2  0.044886  0.014925   \n",
       "6   0.064103  0.595657  27.101167  ...  3.935216     0.2  0.044886  0.014925   \n",
       "7   0.064103  0.595657  27.101167  ...  3.935216     0.2  0.044886  0.014925   \n",
       "8   0.064103  0.595657  27.101167  ...  3.935216     0.2  0.044886  0.014925   \n",
       "9   0.064103  0.595657  27.101167  ...  3.935216     0.2  0.044886  0.014925   \n",
       "10  0.064103  0.595657  27.101167  ...  3.935216     0.2  0.044886  0.014925   \n",
       "11  0.064103  0.595657  27.101167  ...  3.935216     0.2  0.044886  0.014925   \n",
       "\n",
       "      150804    150805    150806    150807    150808    150809  \n",
       "0   0.134692  0.056338  3.826199  0.020408  1.900535  0.123668  \n",
       "1   0.134692  0.056338  3.826199  0.020408  1.900535  0.123668  \n",
       "2   0.134692  0.056338  3.826199  0.020408  1.900535  0.123668  \n",
       "3   0.134692  0.056338  3.826199  0.020408  1.900535  0.123668  \n",
       "4   0.134692  0.056338  3.826199  0.020408  1.900535  0.123668  \n",
       "5   0.134692  0.056338  3.826199  0.020408  1.900535  0.123668  \n",
       "6   0.134692  0.056338  3.826199  0.020408  1.900535  0.123668  \n",
       "7   0.134692  0.056338  3.826199  0.020408  1.900535  0.123668  \n",
       "8   0.134692  0.056338  3.826199  0.020408  1.900535  0.123668  \n",
       "9   0.134692  0.056338  3.826199  0.020408  1.900535  0.123668  \n",
       "10  0.134692  0.056338  3.826199  0.020408  1.900535  0.123668  \n",
       "11  0.134692  0.056338  3.826199  0.020408  1.900535  0.123668  \n",
       "\n",
       "[12 rows x 150811 columns]"
      ]
     },
     "execution_count": 8,
     "metadata": {},
     "output_type": "execute_result"
    }
   ],
   "source": [
    "predict_croston_01 = pd.read_csv('..\\exp\\Croston_Sktime.txt')\n",
    "predict_croston_01"
   ]
  },
  {
   "cell_type": "code",
   "execution_count": 10,
   "id": "d0c92a0c",
   "metadata": {
    "ExecuteTime": {
     "end_time": "2024-02-21T03:19:45.044260Z",
     "start_time": "2024-02-21T02:21:13.353601Z"
    }
   },
   "outputs": [
    {
     "name": "stderr",
     "output_type": "stream",
     "text": [
      "100%|██████████████████████████████████████████████████████████████████████████| 150809/150809 [58:31<00:00, 42.94it/s]\n"
     ]
    }
   ],
   "source": [
    "for i in tqdm(range(150809),position=0,leave=True):\n",
    "    ts = np.array(train_sktime.iloc[:,i])\n",
    "    model = Croston()\n",
    "    model.fit(ts)\n",
    "    pred_series = model.predict(fh=[1,2,3,4,5,6,7,8,9,10,11,12])\n",
    "    predict_croston_01.iloc[:,i] = pred_series"
   ]
  },
  {
   "cell_type": "code",
   "execution_count": 11,
   "id": "1d17d345",
   "metadata": {
    "ExecuteTime": {
     "end_time": "2024-02-21T03:36:39.302998Z",
     "start_time": "2024-02-21T03:35:54.807864Z"
    }
   },
   "outputs": [],
   "source": [
    "predict_croston_01.to_csv('..\\exp\\Croston_Sktime.txt')"
   ]
  },
  {
   "cell_type": "code",
   "execution_count": null,
   "id": "405324c5",
   "metadata": {},
   "outputs": [],
   "source": []
  }
 ],
 "metadata": {
  "kernelspec": {
   "display_name": "Python 3 (ipykernel)",
   "language": "python",
   "name": "python3"
  },
  "language_info": {
   "codemirror_mode": {
    "name": "ipython",
    "version": 3
   },
   "file_extension": ".py",
   "mimetype": "text/x-python",
   "name": "python",
   "nbconvert_exporter": "python",
   "pygments_lexer": "ipython3",
   "version": "3.11.4"
  },
  "toc": {
   "base_numbering": 1,
   "nav_menu": {},
   "number_sections": true,
   "sideBar": true,
   "skip_h1_title": false,
   "title_cell": "Table of Contents",
   "title_sidebar": "Contents",
   "toc_cell": false,
   "toc_position": {
    "height": "calc(100% - 180px)",
    "left": "10px",
    "top": "150px",
    "width": "426.667px"
   },
   "toc_section_display": true,
   "toc_window_display": true
  },
  "varInspector": {
   "cols": {
    "lenName": 16,
    "lenType": 16,
    "lenVar": 40
   },
   "kernels_config": {
    "python": {
     "delete_cmd_postfix": "",
     "delete_cmd_prefix": "del ",
     "library": "var_list.py",
     "varRefreshCmd": "print(var_dic_list())"
    },
    "r": {
     "delete_cmd_postfix": ") ",
     "delete_cmd_prefix": "rm(",
     "library": "var_list.r",
     "varRefreshCmd": "cat(var_dic_list()) "
    }
   },
   "types_to_exclude": [
    "module",
    "function",
    "builtin_function_or_method",
    "instance",
    "_Feature"
   ],
   "window_display": false
  }
 },
 "nbformat": 4,
 "nbformat_minor": 5
}
